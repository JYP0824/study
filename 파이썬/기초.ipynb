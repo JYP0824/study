{
 "cells": [
  {
   "cell_type": "code",
   "execution_count": 1,
   "id": "d75fae91",
   "metadata": {},
   "outputs": [],
   "source": [
    "import numpy as np\n",
    "import pandas\n",
    "import matplotlib.pyplot\n",
    "import seaborn\n",
    "from sklearn.model_selection import train_test_split"
   ]
  },
  {
   "cell_type": "markdown",
   "id": "5fef6eba",
   "metadata": {},
   "source": [
    "머신러닝 = 데이터 기반으로 패턴을 학습해 결과를 예측하는 알고리즘\n",
    "\n",
    "선형대수 통계 패키지 numpy\n",
    "\n",
    "데이터 처리 패키지 pandas\n",
    "\n",
    "시각화 패키지 matplot // 단점 보완 seaborn"
   ]
  },
  {
   "cell_type": "markdown",
   "id": "bd0f608b",
   "metadata": {},
   "source": [
    "# 넘파이\n",
    "머신러닝의 주요 알고리즘은 선령대수와 통계 등에 기반\n",
    "\n",
    "루프를 사용하지 않고, 대량의 데이터를 빠르게 연산\n",
    "데이터 핸들링 기능 제공\n"
   ]
  },
  {
   "cell_type": "code",
   "execution_count": null,
   "id": "d3106aaa",
   "metadata": {},
   "outputs": [],
   "source": []
  }
 ],
 "metadata": {
  "kernelspec": {
   "display_name": "Python 3 (ipykernel)",
   "language": "python",
   "name": "python3"
  },
  "language_info": {
   "codemirror_mode": {
    "name": "ipython",
    "version": 3
   },
   "file_extension": ".py",
   "mimetype": "text/x-python",
   "name": "python",
   "nbconvert_exporter": "python",
   "pygments_lexer": "ipython3",
   "version": "3.10.9"
  }
 },
 "nbformat": 4,
 "nbformat_minor": 5
}
