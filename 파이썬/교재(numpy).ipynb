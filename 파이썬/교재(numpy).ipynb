{
 "cells": [
  {
   "cell_type": "code",
   "execution_count": 1,
   "id": "d75fae91",
   "metadata": {},
   "outputs": [],
   "source": [
    "import numpy as np\n",
    "import pandas\n",
    "import matplotlib.pyplot\n",
    "import seaborn\n",
    "from sklearn.model_selection import train_test_split"
   ]
  },
  {
   "cell_type": "markdown",
   "id": "5fef6eba",
   "metadata": {},
   "source": [
    "머신러닝 = 데이터 기반으로 패턴을 학습해 결과를 예측하는 알고리즘\n",
    "\n",
    "선형대수 통계 패키지 numpy\n",
    "\n",
    "데이터 처리 패키지 pandas\n",
    "\n",
    "시각화 패키지 matplot // 단점 보완 seaborn"
   ]
  },
  {
   "cell_type": "markdown",
   "id": "bd0f608b",
   "metadata": {},
   "source": [
    "# 넘파이\n",
    "머신러닝의 주요 알고리즘은 선령대수와 통계 등에 기반\n",
    "\n",
    "루프를 사용하지 않고, 대량의 데이터를 빠르게 연산\n",
    "데이터 핸들링 기능 제공\n"
   ]
  },
  {
   "cell_type": "markdown",
   "id": "7e730385",
   "metadata": {},
   "source": [
    "**np.array()**\n",
    "\n",
    "인자를 입력받아 ndarray로 변환하는 기능으로 생성된 ndarray배열의 shape변수는 ndarray의 크기, 즉 행과 열의 수를 튜플형태로 갖고 있음\n",
    "\n",
    "이를 통해 ndarray배열의 차원까지 알 수 있음"
   ]
  },
  {
   "cell_type": "code",
   "execution_count": 12,
   "id": "aa8edb6a",
   "metadata": {},
   "outputs": [
    {
     "name": "stdout",
     "output_type": "stream",
     "text": [
      "array1 type <class 'numpy.ndarray'>\n",
      "array1 shape (3,)\n",
      "ar1 ndim 1\n"
     ]
    }
   ],
   "source": [
    "array1 = np.array([1,2,3])\n",
    "print(\"array1 type\", type(array1))\n",
    "print(\"array1 shape\", array1.shape) #3행 배열\n",
    "print(\"ar1 ndim\", array1.ndim)      #1차원 배열"
   ]
  },
  {
   "cell_type": "code",
   "execution_count": 13,
   "id": "822af36e",
   "metadata": {},
   "outputs": [
    {
     "name": "stdout",
     "output_type": "stream",
     "text": [
      "ar2 type <class 'numpy.ndarray'>\n",
      "ar2 shape (2, 3)\n",
      "ar2 ndim 2\n"
     ]
    }
   ],
   "source": [
    "array2 = np.array([[1,2,3], [4,5,6]])\n",
    "print(\"ar2 type\", type(array2))\n",
    "print(\"ar2 shape\", array2.shape) #2열 3행 배열\n",
    "print(\"ar2 ndim\", array2.ndim)  # 2차원 배열"
   ]
  },
  {
   "cell_type": "code",
   "execution_count": 14,
   "id": "351bdc08",
   "metadata": {},
   "outputs": [
    {
     "name": "stdout",
     "output_type": "stream",
     "text": [
      "ar3 type <class 'numpy.ndarray'>\n",
      "ar3 shape (1, 3)\n",
      "ar3 ndim 2\n",
      "ar3 len 1\n",
      "ar3 size 3\n"
     ]
    }
   ],
   "source": [
    "array3 = np.array([[1,2,3]])\n",
    "print(\"ar3 type\", type(array3))\n",
    "print(\"ar3 shape\", array3.shape)   #1열 3행 배열\n",
    "print(\"ar3 ndim\", array3.ndim)     #2차원 배열\n",
    "print(\"ar3 len\", len(array3))\n",
    "print(\"ar3 size\", array3.size)"
   ]
  },
  {
   "cell_type": "markdown",
   "id": "1ad60339",
   "metadata": {},
   "source": [
    "len()\n",
    "\n",
    "행의 수 반환\n",
    "\n",
    ".size\n",
    "\n",
    "전체 원소의 개수 반환\n",
    "\n",
    "2X3 배열의 경우 원소 개수인 6반환\n",
    "\n",
    "**array1과 array2가 같은 데이터 건수를 가짐에도 1차원 / 2차원으로 나뉘는 이유**\n",
    "\n",
    "array1의 경우([]) 형태로 1데이터\n",
    "\n",
    "array3의 경우 ([[]])로 이루어진 1개의 로우 3개의 칼럼으로 이루어진 2차원 데이터"
   ]
  },
  {
   "cell_type": "markdown",
   "id": "13486ea8",
   "metadata": {},
   "source": [
    "**ndarray의 데이터 타입**\n",
    "\n",
    "ndarray내의 데이터값으로는 숫자, 불, 문자열 등 모두 가능\n",
    "\n",
    "숫자의 경우 int형 unsigned int형, float형 모두 제공하며 complex타입도 제공\n",
    "\n",
    "하지만 한 개의 ndarray내부에 int형과 float형이 같이 있을 수 없다 즉 같은 dtype만이 있을 수 있다"
   ]
  },
  {
   "cell_type": "code",
   "execution_count": 18,
   "id": "a6de3f47",
   "metadata": {},
   "outputs": [
    {
     "name": "stdout",
     "output_type": "stream",
     "text": [
      "<class 'list'>\n",
      "<class 'numpy.ndarray'>\n",
      "[1 2 3] int32\n"
     ]
    }
   ],
   "source": [
    "list = [1,2,3]\n",
    "print(type(list))\n",
    "array1 = np.array(list)\n",
    "print(type(array1))\n",
    "print(array1, array1.dtype)"
   ]
  },
  {
   "cell_type": "markdown",
   "id": "53729e27",
   "metadata": {},
   "source": [
    "list 자료형은 ndarray로 형태를 변환할 수 있다"
   ]
  },
  {
   "cell_type": "code",
   "execution_count": 22,
   "id": "85f73ccf",
   "metadata": {},
   "outputs": [
    {
     "name": "stdout",
     "output_type": "stream",
     "text": [
      "['1' '2' 'test'] <U11\n",
      "[1.  2.  3.1] float64\n"
     ]
    }
   ],
   "source": [
    "list = [1, 2, 'test']\n",
    "array1 = np.array(list)\n",
    "print(array1, array1.dtype)\n",
    "\n",
    "list2 = [1, 2, 3.1]\n",
    "array2 = np.array(list2)\n",
    "print(array2, array2.dtype)"
   ]
  },
  {
   "cell_type": "markdown",
   "id": "e298e981",
   "metadata": {},
   "source": [
    "리스트에 숫자형 값과 문자열 값을 섞어서 array를 만들자 ndarray는 데이터 값이 모두 같아야 하므로 모두 문자열 값으로 변경되었다\n",
    "\n",
    "array2의 경우 모두 float형으로 변경되었다"
   ]
  },
  {
   "cell_type": "markdown",
   "id": "0b12ccf9",
   "metadata": {},
   "source": [
    "**astype()**\n",
    "\n",
    "ndarray내의 데이터 타입 변경\n",
    "\n",
    "astype()인자에 원하는 데이터 타입을 문자열로 지정   // 대용량의 데이터의 경우 메모리 사용량을 줄이며 데이터 타입을 변경하는데 사용 가능"
   ]
  },
  {
   "cell_type": "code",
   "execution_count": 24,
   "id": "62c9233b",
   "metadata": {},
   "outputs": [
    {
     "name": "stdout",
     "output_type": "stream",
     "text": [
      "[1. 2. 3.] float64\n",
      "[1 2 3] int32\n",
      "[1 2 3] int32\n"
     ]
    }
   ],
   "source": [
    "array1_int = np.array([1,2,3])\n",
    "array_float = array1_int.astype('float64')\n",
    "print(array_float, array_float.dtype)\n",
    "\n",
    "array2_int = array_float.astype('int32')\n",
    "print(array2_int, array2_int.dtype)\n",
    "\n",
    "array2_float = np.array([1.1,2.2,3.3])\n",
    "array3_int = array2_float.astype('int32')\n",
    "print(array3_int, array3_int.dtype)"
   ]
  },
  {
   "cell_type": "markdown",
   "id": "a50a68e1",
   "metadata": {},
   "source": [
    "**arange, zeros, ones**\n",
    "\n",
    "특정 크기와 차원을 가진 ndarray를 0, 1로 초기화\n",
    "\n",
    "arange(), zeros(), ones()로 생성하며 주로 대규모 데이터를 초기화해야할 때 사용\n",
    "\n",
    "**arange()함수의 경우 파이썬 표준 함수 range()와 유사한 기능을 한다**\n",
    "\n",
    "array를 range로 표현한 것으로 0부터 함수인자 값 -1까지의 값을 순차적으로 ndarray의 데이터값으로 변환"
   ]
  },
  {
   "cell_type": "code",
   "execution_count": 25,
   "id": "8f6b400f",
   "metadata": {},
   "outputs": [
    {
     "name": "stdout",
     "output_type": "stream",
     "text": [
      "[0 1 2 3 4 5 6 7 8 9]\n",
      "int32 (10,)\n"
     ]
    }
   ],
   "source": [
    "array_arange = np.arange(10)\n",
    "print(array_arange)\n",
    "print(array_arange.dtype, array_arange.shape)"
   ]
  },
  {
   "cell_type": "markdown",
   "id": "d81bbb95",
   "metadata": {},
   "source": [
    "입력된 인자는 stop값이며, 0~9까지의 값으로 구성된 1차원 ndarray를 생성한다 \n",
    "\n",
    "stop값만 부옇했지만 range와 유사하게 0부터 start값으로 시작한다 // 0이 아닌 다른 값을 start값으로 부여할 수도 있다\n",
    "\n",
    "zeros()함수 인자로는 튜플 형태의 shape값을 입력하면 모든 값을 0으로 채운 해당 shape을 가진 ndarray를 반환한다 \n",
    "\n",
    "ones의 경우 1로 반환한다\n",
    "\n",
    "함수 인자로 dtype을 정해주지 않으면, default로 float64형의 데이터로 ndarray를 채우게 된다"
   ]
  },
  {
   "cell_type": "code",
   "execution_count": 38,
   "id": "7f9904e2",
   "metadata": {},
   "outputs": [
    {
     "name": "stdout",
     "output_type": "stream",
     "text": [
      "[[0 0]\n",
      " [0 0]\n",
      " [0 0]]\n",
      "int32 (3, 2)\n"
     ]
    }
   ],
   "source": [
    "z_array = np.zeros((3,2), 'int32')\n",
    "print(z_array)\n",
    "print(z_array.dtype, z_array.shape)"
   ]
  },
  {
   "cell_type": "code",
   "execution_count": 41,
   "id": "9e444997",
   "metadata": {},
   "outputs": [
    {
     "name": "stdout",
     "output_type": "stream",
     "text": [
      "[[1. 1.]\n",
      " [1. 1.]\n",
      " [1. 1.]]\n",
      "float64 (3, 2)\n"
     ]
    }
   ],
   "source": [
    "f_array = np.ones((3,2))\n",
    "print(f_array)\n",
    "print(f_array.dtype, f_array.shape)"
   ]
  },
  {
   "cell_type": "markdown",
   "id": "2cf655db",
   "metadata": {},
   "source": [
    "**ndarray의 차원과 크기 변경 // reshape()**\n",
    "\n",
    "reshape()매서드는 ndarray를 특정 차원 및 크기로 변환\n",
    "\n",
    "변환을 원하는 크기를 함수의 인자로 입력\n",
    "\n",
    "아래 코드의 경우 0~9까지의 1차원 ndarray를 2러우X5칼럼과 5로우X2칼럼 형태로 2차원 ndarray로 변환"
   ]
  },
  {
   "cell_type": "code",
   "execution_count": 2,
   "id": "ca0f4f93",
   "metadata": {},
   "outputs": [
    {
     "name": "stdout",
     "output_type": "stream",
     "text": [
      "[0 1 2 3 4 5 6 7 8 9]\n",
      "[[0 1 2 3 4]\n",
      " [5 6 7 8 9]]\n",
      "[[0 1]\n",
      " [2 3]\n",
      " [4 5]\n",
      " [6 7]\n",
      " [8 9]]\n"
     ]
    }
   ],
   "source": [
    "array1 = np.arange(10)\n",
    "print(array1)\n",
    "array2 = array1.reshape(2,5)\n",
    "print(array2)\n",
    "array3 = array1.reshape(5,2)\n",
    "print(array3)"
   ]
  },
  {
   "cell_type": "markdown",
   "id": "6a1f29dc",
   "metadata": {},
   "source": [
    "지정된 사이즈로 변경이 불가능하면 오류 발생"
   ]
  },
  {
   "cell_type": "code",
   "execution_count": 3,
   "id": "26fe41c5",
   "metadata": {},
   "outputs": [
    {
     "ename": "ValueError",
     "evalue": "cannot reshape array of size 10 into shape (4,3)",
     "output_type": "error",
     "traceback": [
      "\u001b[1;31m---------------------------------------------------------------------------\u001b[0m",
      "\u001b[1;31mValueError\u001b[0m                                Traceback (most recent call last)",
      "Cell \u001b[1;32mIn[3], line 1\u001b[0m\n\u001b[1;32m----> 1\u001b[0m err \u001b[38;5;241m=\u001b[39m \u001b[43marray1\u001b[49m\u001b[38;5;241;43m.\u001b[39;49m\u001b[43mreshape\u001b[49m\u001b[43m(\u001b[49m\u001b[38;5;241;43m4\u001b[39;49m\u001b[43m,\u001b[49m\u001b[38;5;241;43m3\u001b[39;49m\u001b[43m)\u001b[49m\n\u001b[0;32m      2\u001b[0m \u001b[38;5;28mprint\u001b[39m(err)\n",
      "\u001b[1;31mValueError\u001b[0m: cannot reshape array of size 10 into shape (4,3)"
     ]
    }
   ],
   "source": [
    "err = array1.reshape(4,3)\n",
    "print(err)"
   ]
  },
  {
   "cell_type": "raw",
   "id": "a7b285fd",
   "metadata": {},
   "source": [
    "reshape()의 인자로 -1을 적용하면 보다 효율적으로 사용이 가능해짐"
   ]
  },
  {
   "cell_type": "code",
   "execution_count": 5,
   "id": "5fb07b05",
   "metadata": {},
   "outputs": [
    {
     "name": "stdout",
     "output_type": "stream",
     "text": [
      "array1 \n",
      " [0 1 2 3 4 5 6 7 8 9]\n",
      "array2 \n",
      " [[0 1 2 3 4]\n",
      " [5 6 7 8 9]]\n",
      "array3 \n",
      " [[0 1]\n",
      " [2 3]\n",
      " [4 5]\n",
      " [6 7]\n",
      " [8 9]]\n"
     ]
    }
   ],
   "source": [
    "array1 = np.arange(10)\n",
    "print('array1 \\n', array1)\n",
    "array2 = array1.reshape(-1,5)\n",
    "print('array2 \\n', array2)\n",
    "array3 = array1.reshape(5,-1)\n",
    "print('array3 \\n', array3)"
   ]
  },
  {
   "cell_type": "markdown",
   "id": "50287b2e",
   "metadata": {},
   "source": [
    "-1을 인자로 적용 시 해당 인자를 array1과 호환 가능한 ndarray로 변환해준다\n",
    "\n",
    "하지만 10개의 1차원 데이터를 4개의 칼럼을 가진 (-1,4)로 적용 시 변환이 불가능해 에러가 발생한다\n",
    "\n",
    "(로우, 칼럼)"
   ]
  },
  {
   "cell_type": "code",
   "execution_count": 6,
   "id": "e9cc0051",
   "metadata": {},
   "outputs": [
    {
     "ename": "ValueError",
     "evalue": "cannot reshape array of size 10 into shape (4)",
     "output_type": "error",
     "traceback": [
      "\u001b[1;31m---------------------------------------------------------------------------\u001b[0m",
      "\u001b[1;31mValueError\u001b[0m                                Traceback (most recent call last)",
      "Cell \u001b[1;32mIn[6], line 1\u001b[0m\n\u001b[1;32m----> 1\u001b[0m err2 \u001b[38;5;241m=\u001b[39m \u001b[43marray1\u001b[49m\u001b[38;5;241;43m.\u001b[39;49m\u001b[43mreshape\u001b[49m\u001b[43m(\u001b[49m\u001b[38;5;241;43m-\u001b[39;49m\u001b[38;5;241;43m1\u001b[39;49m\u001b[43m,\u001b[49m\u001b[38;5;241;43m4\u001b[39;49m\u001b[43m)\u001b[49m\n\u001b[0;32m      2\u001b[0m \u001b[38;5;28mprint\u001b[39m(err2)\n",
      "\u001b[1;31mValueError\u001b[0m: cannot reshape array of size 10 into shape (4)"
     ]
    }
   ],
   "source": [
    "err2 = array1.reshape(-1,4)\n",
    "print(err2)"
   ]
  },
  {
   "cell_type": "markdown",
   "id": "8d0952c2",
   "metadata": {},
   "source": [
    "-1인자 이용 시 (-1,1)을 사용게 되면 원본 ndarray가 어떠한 형태이던 반드시 1 개의 칼럼을 가진 ndarray로 변환이 보장된다\n",
    "\n",
    "tolist() 메서드를 이용하면 리스트 자료형으러 변환이 가능하다"
   ]
  },
  {
   "cell_type": "code",
   "execution_count": 15,
   "id": "c06cad4b",
   "metadata": {},
   "outputs": [
    {
     "name": "stdout",
     "output_type": "stream",
     "text": [
      "[[[0 1]\n",
      "  [2 3]]\n",
      "\n",
      " [[4 5]\n",
      "  [6 7]]]\n",
      "[[[0, 1], [2, 3]], [[4, 5], [6, 7]]]\n"
     ]
    }
   ],
   "source": [
    "array1 = np.arange(8)\n",
    "array2 = array1.reshape((2, 2, 2)) #3차원 데이터\n",
    "print(array2)\n",
    "print(array2.tolist())"
   ]
  },
  {
   "cell_type": "code",
   "execution_count": 17,
   "id": "f45cdab2",
   "metadata": {},
   "outputs": [
    {
     "name": "stdout",
     "output_type": "stream",
     "text": [
      "[[0, 1, 2, 3, 4], [5, 6, 7, 8, 9]]\n"
     ]
    }
   ],
   "source": [
    "array1=np.arange(10)\n",
    "array2 = array1.reshape(-1,5)\n",
    "print(array2.tolist())"
   ]
  },
  {
   "cell_type": "code",
   "execution_count": 19,
   "id": "9450e876",
   "metadata": {},
   "outputs": [
    {
     "data": {
      "text/plain": [
       "[[0], [1], [2], [3], [4], [5], [6], [7], [8], [9]]"
      ]
     },
     "execution_count": 19,
     "metadata": {},
     "output_type": "execute_result"
    }
   ],
   "source": [
    "array3 = array1.reshape(-1,1)\n",
    "array3.tolist()"
   ]
  },
  {
   "cell_type": "markdown",
   "id": "636ed6cc",
   "metadata": {},
   "source": [
    "# ndarray의 데이터 세트 선택하기 - indexing\n",
    "\n",
    "\n",
    "\n",
    " - 특정 데이터만 추출\n",
    "\n",
    "원하는 위치의 인덱스 값을 지정하면 해당 위치의 데이터가 반환\n",
    " - 슬라이싱\n",
    " \n",
    " 슬라이싱은 연속된 인덱스 상의 ndarrray를 추출하는 방식으로 ':'기호 사이에 시작 인덱스와 종료 인덱스를 표시하면 시작 인덱스에서 종료 인덱 -1 위치에 있는 데이터의 ndarray를 반환한다. 예를 들어 1:5라고 하면 시작 인덱스 1과 종료 인덱스 4까지에 해당하는 ndarray를 반환한다\n",
    " - 팬시 인덱싱\n",
    " \n",
    "일정한 인덱싱 집합을 리스트 또는 ndarray 형태로 지정해 해당 위치에 있는 데이터의 ndarray를 반환한다\n",
    " - 불린 인덱싱\n",
    " \n",
    "특정 조건에 해당하는지 여부인 True/False값 인덱싱 집합을 기반으로 True에 해당하는 인덱스 위치에 있는 데이터의 ndarray를 반환한다"
   ]
  },
  {
   "cell_type": "markdown",
   "id": "72dc0b94",
   "metadata": {},
   "source": [
    "**단일 값 추출**\n",
    "\n",
    "1개의 데이터값을 선택하기 위해선 ndarray객체에 해당하는 위치의 인덱스 값을 []안에 입력하면 된다."
   ]
  },
  {
   "cell_type": "code",
   "execution_count": 20,
   "id": "bf4857db",
   "metadata": {},
   "outputs": [
    {
     "name": "stdout",
     "output_type": "stream",
     "text": [
      "array1:  [1 2 3 4 5 6 7 8 9]\n",
      "value: 3\n",
      "<class 'numpy.int32'>\n"
     ]
    }
   ],
   "source": [
    "array1 = np.arange(1, 10)\n",
    "print('array1: ', array1)\n",
    "#index는 0부터 시작하므로 array1[2]는 3번째 index위치의 데이터값을 의미\n",
    "value = array1[2]\n",
    "print('value:', value)\n",
    "print(type(value))"
   ]
  },
  {
   "cell_type": "code",
   "execution_count": 23,
   "id": "7c22d37b",
   "metadata": {},
   "outputs": [
    {
     "name": "stdout",
     "output_type": "stream",
     "text": [
      "맨 뒤 값 9\n"
     ]
    }
   ],
   "source": [
    "print('맨 뒤 값', array1[-1])"
   ]
  },
  {
   "cell_type": "code",
   "execution_count": 24,
   "id": "0657b66f",
   "metadata": {},
   "outputs": [
    {
     "name": "stdout",
     "output_type": "stream",
     "text": [
      "[ 3  2  3  4  5  6  7  8 33]\n"
     ]
    }
   ],
   "source": [
    "array1[0] = 3\n",
    "array1[8] = 33\n",
    "print(array1)"
   ]
  },
  {
   "cell_type": "markdown",
   "id": "e4ac895d",
   "metadata": {},
   "source": [
    "다차원의 ndarray에서 단일 값 추출하기\n",
    "\n",
    "2차원상에서 데이터에 접근하기 위해선 ','로 분리된 로우와 칼럼 위치의 인덱스를 통해 접근하면 된다"
   ]
  },
  {
   "cell_type": "code",
   "execution_count": 29,
   "id": "478fa364",
   "metadata": {},
   "outputs": [
    {
     "name": "stdout",
     "output_type": "stream",
     "text": [
      "[[1 2 3]\n",
      " [4 5 6]\n",
      " [7 8 9]]\n",
      "row=0, column=2 index 가리키는 값:  3\n"
     ]
    }
   ],
   "source": [
    "array1 = np.arange(1,10)\n",
    "array2 = array1.reshape(-1,3)\n",
    "print(array2)\n",
    "\n",
    "print('row=0, column=2 index 가리키는 값: ', array2[0,2])"
   ]
  },
  {
   "cell_type": "markdown",
   "id": "92b30f85",
   "metadata": {},
   "source": [
    "**슬라이싱**\n",
    "\n",
    "1차원 슬라이싱\n",
    "\n",
    "':'를 이용하면 연속한 데이터를 슬라이싱해서 추출할 수 있다 단일 데이터값 추출을 제외하고 슬라이싱, 팬시 인덱싱, 불린 인덱싱으로 추출된 데이터는 모두 ndarray타입이다\n",
    "\n",
    "':'사이에 시작 인덱스와 종료 인덱스를 표시하면시작 인덱스에서 종료 인덱스 -1 위치에 있는 데이터의 ndarray를 반환한다"
   ]
  },
  {
   "cell_type": "code",
   "execution_count": 33,
   "id": "41e4b873",
   "metadata": {},
   "outputs": [
    {
     "name": "stdout",
     "output_type": "stream",
     "text": [
      "[1 2 3]\n",
      "<class 'numpy.ndarray'>\n"
     ]
    }
   ],
   "source": [
    "array1 = np.arange(1,10)\n",
    "array3 = array1[0:3]\n",
    "print(array3)\n",
    "print(type(array3))"
   ]
  },
  {
   "cell_type": "code",
   "execution_count": 35,
   "id": "94701f2d",
   "metadata": {},
   "outputs": [
    {
     "name": "stdout",
     "output_type": "stream",
     "text": [
      "[1 2 3 4]\n",
      "[6 7 8 9]\n",
      "[1 2 3 4 5 6 7 8 9]\n"
     ]
    }
   ],
   "source": [
    "#시작, 종료 인덱스는 생략이 가능하다\n",
    "array4 = array1[:4]\n",
    "print(array4)\n",
    "array5 = array1[5:]\n",
    "print(array5)\n",
    "allarr=array1[:]\n",
    "print(allarr)"
   ]
  },
  {
   "cell_type": "markdown",
   "id": "62058ea6",
   "metadata": {},
   "source": [
    "2차원 ndarray에 슬라이싱으로 데이터 접근하기\n",
    "\n",
    "','를 이용해 로우와 칼럼 인덱스를 지칭"
   ]
  },
  {
   "cell_type": "code",
   "execution_count": 48,
   "id": "6ecc15cc",
   "metadata": {},
   "outputs": [
    {
     "name": "stdout",
     "output_type": "stream",
     "text": [
      "[[1 2 3]\n",
      " [4 5 6]\n",
      " [7 8 9]]\n",
      "array2[0:2], [0,2]: \n",
      " [[1 2]\n",
      " [4 5]]\n",
      "그 다음 \n",
      " [[6]\n",
      " [9]]\n"
     ]
    }
   ],
   "source": [
    "array1 = np.arange(1,10)\n",
    "array2 = array1.reshape(3,3)\n",
    "print(array2)\n",
    "\n",
    "print('array2[0:2], [0,2]: \\n'  ,array2[0:2, 0:2])\n",
    "print('그 다음 \\n',array2[1:,2:])"
   ]
  },
  {
   "cell_type": "markdown",
   "id": "26a73f12",
   "metadata": {},
   "source": [
    "2차원 ndarray에서 뒤에 오는 인덱스 값을 없애면 1차원 ndarray로 반환된다\n",
    "\n",
    "3차원 ndarray에서 뒤에 오는 인덱스를 없애면 2차원 ndarray로 반환된다"
   ]
  },
  {
   "cell_type": "code",
   "execution_count": 51,
   "id": "0672926d",
   "metadata": {},
   "outputs": [
    {
     "name": "stdout",
     "output_type": "stream",
     "text": [
      "[1 2 3]\n",
      "[4 5 6]\n",
      "(3,)\n",
      "(3,)\n"
     ]
    }
   ],
   "source": [
    "print(array2[0])\n",
    "print(array2[1])\n",
    "print(array2[0].shape)\n",
    "print(array2[1].shape)"
   ]
  },
  {
   "cell_type": "markdown",
   "id": "769a5f1d",
   "metadata": {},
   "source": [
    "**팬시 인덱싱**\n",
    "\n",
    "리스트나 ndarray로 인덱스 집합을 지정하면 해당 위치의 인덱스에 해당하는 ndarray를 반환하는 인덱싱 방식이다"
   ]
  },
  {
   "cell_type": "code",
   "execution_count": 62,
   "id": "db705a06",
   "metadata": {},
   "outputs": [
    {
     "name": "stdout",
     "output_type": "stream",
     "text": [
      "[[1 2 3]\n",
      " [4 5 6]\n",
      " [7 8 9]]\n",
      "[3 6]\n",
      "\n",
      "\n",
      "[[1 2]\n",
      " [4 5]]\n",
      "[[1, 2, 3], [4, 5, 6]]\n"
     ]
    }
   ],
   "source": [
    "array1 = np.arange(start = 1, stop = 10)\n",
    "array2 = array1.reshape(3,3)\n",
    "print(array2)\n",
    "\n",
    "array3 = array2[[0,1], 2]\n",
    "print(array3)\n",
    "print('\\n')\n",
    "\n",
    "array4 = array2[[0,1], 0:2]\n",
    "print(array4)\n",
    "\n",
    "array5 = array2[[0,1]]\n",
    "print(array5.tolist())"
   ]
  },
  {
   "cell_type": "markdown",
   "id": "09506ddc",
   "metadata": {},
   "source": [
    "**불린 인덱싱**\n",
    "\n",
    "조건 필터링과 검색을 동시에 할 수 있어 자주 사용되는 인덱싱 방식이다\n",
    "\n",
    "불린 인덱싱을 사용하지 않고 1차원 ndarray(1,2,3,4,5,6,7,8,9)에서 데이터값이 5보다 큰 데이터만 추출하려면 for loop을 통해 if 추출값 > 5로 비교를 돌리며 데이터를 추출해야 한다\n",
    "\n",
    "불린 인덱스[ ] 내에 조건문을 그대로 입력하면 보다 간단하게 구현할 수 있다"
   ]
  },
  {
   "cell_type": "code",
   "execution_count": 64,
   "id": "10b1b7d2",
   "metadata": {},
   "outputs": [
    {
     "name": "stdout",
     "output_type": "stream",
     "text": [
      "[6 7 8 9]\n"
     ]
    }
   ],
   "source": [
    "aarray1 = np.arange(1,10)\n",
    "\n",
    "#[ ] 안에 추출값 > 5 boolean indexing 적용\n",
    "array3 = array1[array1 > 5]\n",
    "print(array3)"
   ]
  },
  {
   "cell_type": "code",
   "execution_count": 65,
   "id": "9d7e2132",
   "metadata": {},
   "outputs": [
    {
     "data": {
      "text/plain": [
       "array([False, False, False, False, False,  True,  True,  True,  True])"
      ]
     },
     "execution_count": 65,
     "metadata": {},
     "output_type": "execute_result"
    }
   ],
   "source": [
    "array1 > 5"
   ]
  },
  {
   "cell_type": "markdown",
   "id": "43ab0bfc",
   "metadata": {},
   "source": [
    "위와 동일한 boolean ndarray를 만들어 array1[ ]에 그대로 입력하면 동일한 데이터가 반환된다"
   ]
  },
  {
   "cell_type": "code",
   "execution_count": 66,
   "id": "ac1ea9f1",
   "metadata": {},
   "outputs": [
    {
     "name": "stdout",
     "output_type": "stream",
     "text": [
      "[6 7 8 9]\n"
     ]
    }
   ],
   "source": [
    "boolean = np.array([False, False, False, False, False,  True,  True,  True,  True])\n",
    "array3 = array1[boolean]\n",
    "print(array3)"
   ]
  },
  {
   "cell_type": "code",
   "execution_count": 68,
   "id": "78b11e2f",
   "metadata": {},
   "outputs": [
    {
     "name": "stdout",
     "output_type": "stream",
     "text": [
      "[6 7 8 9]\n"
     ]
    }
   ],
   "source": [
    "index = np.array([5,6,7,8])\n",
    "array4 = array1[index]   #직접 인덱스 집합을 만드어 대입하는 것도 가능하다\n",
    "print(array4)"
   ]
  }
 ],
 "metadata": {
  "kernelspec": {
   "display_name": "Python 3 (ipykernel)",
   "language": "python",
   "name": "python3"
  },
  "language_info": {
   "codemirror_mode": {
    "name": "ipython",
    "version": 3
   },
   "file_extension": ".py",
   "mimetype": "text/x-python",
   "name": "python",
   "nbconvert_exporter": "python",
   "pygments_lexer": "ipython3",
   "version": "3.10.9"
  }
 },
 "nbformat": 4,
 "nbformat_minor": 5
}
