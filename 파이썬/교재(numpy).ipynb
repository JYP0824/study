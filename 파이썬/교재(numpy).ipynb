{
 "cells": [
  {
   "cell_type": "code",
   "execution_count": 1,
   "id": "d75fae91",
   "metadata": {},
   "outputs": [],
   "source": [
    "import numpy as np\n",
    "import pandas\n",
    "import matplotlib.pyplot\n",
    "import seaborn\n",
    "from sklearn.model_selection import train_test_split"
   ]
  },
  {
   "cell_type": "markdown",
   "id": "5fef6eba",
   "metadata": {},
   "source": [
    "머신러닝 = 데이터 기반으로 패턴을 학습해 결과를 예측하는 알고리즘\n",
    "\n",
    "선형대수 통계 패키지 numpy\n",
    "\n",
    "데이터 처리 패키지 pandas\n",
    "\n",
    "시각화 패키지 matplot // 단점 보완 seaborn"
   ]
  },
  {
   "cell_type": "markdown",
   "id": "bd0f608b",
   "metadata": {},
   "source": [
    "# 넘파이\n",
    "머신러닝의 주요 알고리즘은 선령대수와 통계 등에 기반\n",
    "\n",
    "루프를 사용하지 않고, 대량의 데이터를 빠르게 연산\n",
    "데이터 핸들링 기능 제공\n"
   ]
  },
  {
   "cell_type": "markdown",
   "id": "7e730385",
   "metadata": {},
   "source": [
    "**np.array()\n",
    "\n",
    "인자를 입력받아 ndarray로 변환하는 기능으로 생성된 ndarray배열의 shape변수는 ndarray의 크기, 즉 행과 열의 수를 튜플형태로 갖고 있음\n",
    "\n",
    "이를 통해 ndarray배열의 차원까지 알 수 있음"
   ]
  },
  {
   "cell_type": "code",
   "execution_count": 12,
   "id": "aa8edb6a",
   "metadata": {},
   "outputs": [
    {
     "name": "stdout",
     "output_type": "stream",
     "text": [
      "array1 type <class 'numpy.ndarray'>\n",
      "array1 shape (3,)\n",
      "ar1 ndim 1\n"
     ]
    }
   ],
   "source": [
    "array1 = np.array([1,2,3])\n",
    "print(\"array1 type\", type(array1))\n",
    "print(\"array1 shape\", array1.shape) #3행 배열\n",
    "print(\"ar1 ndim\", array1.ndim)      #1차원 배열"
   ]
  },
  {
   "cell_type": "code",
   "execution_count": 13,
   "id": "822af36e",
   "metadata": {},
   "outputs": [
    {
     "name": "stdout",
     "output_type": "stream",
     "text": [
      "ar2 type <class 'numpy.ndarray'>\n",
      "ar2 shape (2, 3)\n",
      "ar2 ndim 2\n"
     ]
    }
   ],
   "source": [
    "array2 = np.array([[1,2,3], [4,5,6]])\n",
    "print(\"ar2 type\", type(array2))\n",
    "print(\"ar2 shape\", array2.shape) #2열 3행 배열\n",
    "print(\"ar2 ndim\", array2.ndim)  # 2차원 배열"
   ]
  },
  {
   "cell_type": "code",
   "execution_count": 14,
   "id": "351bdc08",
   "metadata": {},
   "outputs": [
    {
     "name": "stdout",
     "output_type": "stream",
     "text": [
      "ar3 type <class 'numpy.ndarray'>\n",
      "ar3 shape (1, 3)\n",
      "ar3 ndim 2\n",
      "ar3 len 1\n",
      "ar3 size 3\n"
     ]
    }
   ],
   "source": [
    "array3 = np.array([[1,2,3]])\n",
    "print(\"ar3 type\", type(array3))\n",
    "print(\"ar3 shape\", array3.shape)   #1열 3행 배열\n",
    "print(\"ar3 ndim\", array3.ndim)     #2차원 배열\n",
    "print(\"ar3 len\", len(array3))\n",
    "print(\"ar3 size\", array3.size)"
   ]
  },
  {
   "cell_type": "markdown",
   "id": "1ad60339",
   "metadata": {},
   "source": [
    "len()\n",
    "\n",
    "행의 수 반환\n",
    "\n",
    ".size\n",
    "\n",
    "전체 원소의 개수 반환\n",
    "\n",
    "2X3 배열의 경우 원소 개수인 6반환\n",
    "\n",
    "**array1과 array2가 같은 데이터 건수를 가짐에도 1차원 / 2차원으로 나뉘는 이유\n",
    "\n",
    "array1의 경우([]) 형태로 1데이터\n",
    "\n",
    "array3의 경우 ([[]])로 이루어진 1개의 로우 3개의 칼럼으로 이루어진 2차원 데이터"
   ]
  },
  {
   "cell_type": "markdown",
   "id": "13486ea8",
   "metadata": {},
   "source": [
    "**ndarray의 데이터 타입\n",
    "\n",
    "ndarray내의 데이터값으로는 숫자, 불, 문자열 등 모두 가능\n",
    "\n",
    "숫자의 경우 int형 insigned int형, float형 모두 제고아며 complex타입도 제공\n",
    "\n",
    "하지만 한 개의 ndarray내부에 int형과 float형이 같이 있을 수 없다 즉 같은 dtype만이 있을 수 있다"
   ]
  },
  {
   "cell_type": "code",
   "execution_count": 18,
   "id": "a6de3f47",
   "metadata": {},
   "outputs": [
    {
     "name": "stdout",
     "output_type": "stream",
     "text": [
      "<class 'list'>\n",
      "<class 'numpy.ndarray'>\n",
      "[1 2 3] int32\n"
     ]
    }
   ],
   "source": [
    "list = [1,2,3]\n",
    "print(type(list))\n",
    "array1 = np.array(list)\n",
    "print(type(array1))\n",
    "print(array1, array1.dtype)"
   ]
  },
  {
   "cell_type": "markdown",
   "id": "53729e27",
   "metadata": {},
   "source": [
    "list 자료형은 ndarray로 형태를 변환할 수 있다"
   ]
  },
  {
   "cell_type": "code",
   "execution_count": 22,
   "id": "85f73ccf",
   "metadata": {},
   "outputs": [
    {
     "name": "stdout",
     "output_type": "stream",
     "text": [
      "['1' '2' 'test'] <U11\n",
      "[1.  2.  3.1] float64\n"
     ]
    }
   ],
   "source": [
    "list = [1, 2, 'test']\n",
    "array1 = np.array(list)\n",
    "print(array1, array1.dtype)\n",
    "\n",
    "list2 = [1, 2, 3.1]\n",
    "array2 = np.array(list2)\n",
    "print(array2, array2.dtype)"
   ]
  },
  {
   "cell_type": "markdown",
   "id": "e298e981",
   "metadata": {},
   "source": [
    "리스트에 숫자형 값과 문자열 값을 섞어서 array를 만들자 ndarray는 데이터 값이 모두 같아야 하므로 모두 문자열 값으로 변경되었다\n",
    "\n",
    "array2의 경우 모두 float형으로 변경되었다"
   ]
  },
  {
   "cell_type": "markdown",
   "id": "0b12ccf9",
   "metadata": {},
   "source": [
    "**astype()\n",
    "\n",
    "ndarray내의 데이터 타입 변경\n",
    "\n",
    "astype()인자에 원하는 데이터 타입을 문자열로 지정   // 대용량의 데이터의 경우 메모리 사용량을 줄이며 데이터 타입을 변경하는데 사용 가능"
   ]
  },
  {
   "cell_type": "code",
   "execution_count": 24,
   "id": "62c9233b",
   "metadata": {},
   "outputs": [
    {
     "name": "stdout",
     "output_type": "stream",
     "text": [
      "[1. 2. 3.] float64\n",
      "[1 2 3] int32\n",
      "[1 2 3] int32\n"
     ]
    }
   ],
   "source": [
    "array1_int = np.array([1,2,3])\n",
    "array_float = array1_int.astype('float64')\n",
    "print(array_float, array_float.dtype)\n",
    "\n",
    "array2_int = array_float.astype('int32')\n",
    "print(array2_int, array2_int.dtype)\n",
    "\n",
    "array2_float = np.array([1.1,2.2,3.3])\n",
    "array3_int = array2_float.astype('int32')\n",
    "print(array3_int, array3_int.dtype)"
   ]
  },
  {
   "cell_type": "markdown",
   "id": "a50a68e1",
   "metadata": {},
   "source": [
    "**arange, zeros, ones\n",
    "\n",
    "특정 크기와 차원을 가진 ndarray를 0, 1로 초기화\n",
    "\n",
    "arange(), zeros(), ones()로 생성하며 주로 대규모 데이터를 초기화해야할 때 사용\n",
    "\n",
    "**arange()함수의 경우 파이썬 표준 함수 range()와 유사한 기능을 한다\n",
    "\n",
    "array를 range로 표현한 것으로 0부터 함수인자 값 -1까지의 값을 순차적으로 ndarray의 데이터값으로 변환"
   ]
  },
  {
   "cell_type": "code",
   "execution_count": 25,
   "id": "8f6b400f",
   "metadata": {},
   "outputs": [
    {
     "name": "stdout",
     "output_type": "stream",
     "text": [
      "[0 1 2 3 4 5 6 7 8 9]\n",
      "int32 (10,)\n"
     ]
    }
   ],
   "source": [
    "array_arange = np.arange(10)\n",
    "print(array_arange)\n",
    "print(array_arange.dtype, array_arange.shape)"
   ]
  },
  {
   "cell_type": "markdown",
   "id": "d81bbb95",
   "metadata": {},
   "source": [
    "입력된 인자는 stop값이며, 0~9까지의 값으로 구성된 1차원 ndarray를 생성한다 \n",
    "\n",
    "stop값만 부옇했지만 range와 유사하게 0부터 start값으로 시작한다 // 0이 아닌 다른 값을 start값으로 부여할 수도 있다\n",
    "\n",
    "zeros()함수 인자로는 튜플 형태의 shape값을 입력하면 모든 값을 0으로 채운 해당 shape을 가진 ndarray를 반환한다 \n",
    "\n",
    "ones의 경우 1로 반환한다\n",
    "\n",
    "함수 인자로 dtype을 정해주지 않으면, default로 float64형의 데이터로 ndarray를 채우게 된다"
   ]
  },
  {
   "cell_type": "code",
   "execution_count": 38,
   "id": "7f9904e2",
   "metadata": {},
   "outputs": [
    {
     "name": "stdout",
     "output_type": "stream",
     "text": [
      "[[0 0]\n",
      " [0 0]\n",
      " [0 0]]\n",
      "int32 (3, 2)\n"
     ]
    }
   ],
   "source": [
    "z_array = np.zeros((3,2), 'int32')\n",
    "print(z_array)\n",
    "print(z_array.dtype, z_array.shape)"
   ]
  },
  {
   "cell_type": "code",
   "execution_count": 41,
   "id": "9e444997",
   "metadata": {},
   "outputs": [
    {
     "name": "stdout",
     "output_type": "stream",
     "text": [
      "[[1. 1.]\n",
      " [1. 1.]\n",
      " [1. 1.]]\n",
      "float64 (3, 2)\n"
     ]
    }
   ],
   "source": [
    "f_array = np.ones((3,2))\n",
    "print(f_array)\n",
    "print(f_array.dtype, f_array.shape)"
   ]
  },
  {
   "cell_type": "markdown",
   "id": "2cf655db",
   "metadata": {},
   "source": [
    "**ndarray의 차원과 크기 변경 // reshape()\n",
    "\n",
    "reshape()매서드는 ndarray를 특정 차원 및 크기로 변환\n",
    "\n",
    "변환을 원하는 크기를 함수의 인자로 입력\n",
    "\n",
    "아래 코드의 경우 0~9까지의 1차원 ndarray를 2러우X5칼럼과 5로우X2칼럼 형태로 2차원 ndarray로 변환"
   ]
  }
 ],
 "metadata": {
  "kernelspec": {
   "display_name": "Python 3 (ipykernel)",
   "language": "python",
   "name": "python3"
  },
  "language_info": {
   "codemirror_mode": {
    "name": "ipython",
    "version": 3
   },
   "file_extension": ".py",
   "mimetype": "text/x-python",
   "name": "python",
   "nbconvert_exporter": "python",
   "pygments_lexer": "ipython3",
   "version": "3.10.9"
  }
 },
 "nbformat": 4,
 "nbformat_minor": 5
}
