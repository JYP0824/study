{
  "nbformat": 4,
  "nbformat_minor": 0,
  "metadata": {
    "colab": {
      "provenance": [],
      "authorship_tag": "ABX9TyMMuINDx22oCIcY/k5uU4Zk",
      "include_colab_link": true
    },
    "kernelspec": {
      "name": "python3",
      "display_name": "Python 3"
    },
    "language_info": {
      "name": "python"
    }
  },
  "cells": [
    {
      "cell_type": "markdown",
      "metadata": {
        "id": "view-in-github",
        "colab_type": "text"
      },
      "source": [
        "<a href=\"https://colab.research.google.com/github/JYP0824/study/blob/main/%ED%8C%8C%EC%9D%B4%EC%8D%AC/%ED%8C%8C%EC%9D%B4%EC%8D%AC_for_beginner2.ipynb\" target=\"_parent\"><img src=\"https://colab.research.google.com/assets/colab-badge.svg\" alt=\"Open In Colab\"/></a>"
      ]
    },
    {
      "cell_type": "markdown",
      "source": [
        "# 2차원 리스트"
      ],
      "metadata": {
        "id": "1ppeRld2SdPO"
      }
    },
    {
      "cell_type": "code",
      "source": [
        "list1 = []\n",
        "list2 = []\n",
        "value = 1\n",
        "\n",
        "for i in range(0,3):\n",
        "  for k in range(0,4):\n",
        "    list1.append(value)\n",
        "    value += 1\n",
        "  list2.append(list1)\n",
        "  list1 = []\n",
        "\n",
        "list2"
      ],
      "metadata": {
        "colab": {
          "base_uri": "https://localhost:8080/"
        },
        "id": "Q025LTcUSg4p",
        "outputId": "7246cc3b-4149-4e82-cf43-26cc7fa4e6fa"
      },
      "execution_count": null,
      "outputs": [
        {
          "output_type": "execute_result",
          "data": {
            "text/plain": [
              "[[1, 2, 3, 4], [5, 6, 7, 8], [9, 10, 11, 12]]"
            ]
          },
          "metadata": {},
          "execution_count": 4
        }
      ]
    },
    {
      "cell_type": "markdown",
      "source": [
        "**튜플**\n",
        "\n",
        "리스트는 []로 생성, 튜플은 ()로 생성\n",
        "\n",
        "튜플의 경우 값을 수정할 수 없으며, 읽기만 가능해 읽기 전용 자료를 저장할 때 사용"
      ],
      "metadata": {
        "id": "n8SsAtFZUA66"
      }
    },
    {
      "cell_type": "code",
      "source": [
        "tt1 = (10, 20, 30); tt1"
      ],
      "metadata": {
        "colab": {
          "base_uri": "https://localhost:8080/"
        },
        "id": "VvOCy7dyUc_b",
        "outputId": "9a63cbb9-8583-4324-ee7a-c09a15f998d2"
      },
      "execution_count": null,
      "outputs": [
        {
          "output_type": "execute_result",
          "data": {
            "text/plain": [
              "(10, 20, 30)"
            ]
          },
          "metadata": {},
          "execution_count": 10
        }
      ]
    },
    {
      "cell_type": "code",
      "source": [
        "tt1.append(40)\n",
        "tt[0] = 4\n",
        "del(tt1[0])\n",
        "\n",
        "#튜플은 읽기 전용이기에 다음 함수 사용 시 오류 발생"
      ],
      "metadata": {
        "colab": {
          "base_uri": "https://localhost:8080/",
          "height": 245
        },
        "id": "jL2UJs9gUrIn",
        "outputId": "6c838150-fbb4-4aec-cab6-e4706d16ceed"
      },
      "execution_count": null,
      "outputs": [
        {
          "output_type": "error",
          "ename": "AttributeError",
          "evalue": "ignored",
          "traceback": [
            "\u001b[0;31m---------------------------------------------------------------------------\u001b[0m",
            "\u001b[0;31mAttributeError\u001b[0m                            Traceback (most recent call last)",
            "\u001b[0;32m<ipython-input-6-38eae57c22a0>\u001b[0m in \u001b[0;36m<cell line: 1>\u001b[0;34m()\u001b[0m\n\u001b[0;32m----> 1\u001b[0;31m \u001b[0mtt1\u001b[0m\u001b[0;34m.\u001b[0m\u001b[0mappend\u001b[0m\u001b[0;34m(\u001b[0m\u001b[0;36m40\u001b[0m\u001b[0;34m)\u001b[0m\u001b[0;34m\u001b[0m\u001b[0;34m\u001b[0m\u001b[0m\n\u001b[0m\u001b[1;32m      2\u001b[0m \u001b[0mtt\u001b[0m\u001b[0;34m[\u001b[0m\u001b[0;36m0\u001b[0m\u001b[0;34m]\u001b[0m \u001b[0;34m=\u001b[0m \u001b[0;36m4\u001b[0m\u001b[0;34m\u001b[0m\u001b[0;34m\u001b[0m\u001b[0m\n\u001b[1;32m      3\u001b[0m \u001b[0;32mdel\u001b[0m\u001b[0;34m(\u001b[0m\u001b[0mtt1\u001b[0m\u001b[0;34m[\u001b[0m\u001b[0;36m0\u001b[0m\u001b[0;34m]\u001b[0m\u001b[0;34m)\u001b[0m\u001b[0;34m\u001b[0m\u001b[0;34m\u001b[0m\u001b[0m\n\u001b[1;32m      4\u001b[0m \u001b[0;34m\u001b[0m\u001b[0m\n\u001b[1;32m      5\u001b[0m \u001b[0;31m#튜플은 읽기 전용이기에 다음 함수 사용 시 오류 발생\u001b[0m\u001b[0;34m\u001b[0m\u001b[0;34m\u001b[0m\u001b[0m\n",
            "\u001b[0;31mAttributeError\u001b[0m: 'tuple' object has no attribute 'append'"
          ]
        }
      ]
    },
    {
      "cell_type": "code",
      "source": [
        "del(tt1)"
      ],
      "metadata": {
        "id": "IJzfyFZOU2lp"
      },
      "execution_count": null,
      "outputs": []
    },
    {
      "cell_type": "code",
      "source": [
        "tt1 = (1,2,3,4)\n",
        "tt1[0] + tt1[1] + tt1[3]"
      ],
      "metadata": {
        "colab": {
          "base_uri": "https://localhost:8080/"
        },
        "id": "zKJ3EBh-VDDr",
        "outputId": "1c460131-9b0d-4f1d-b59d-5f9b6c50132e"
      },
      "execution_count": null,
      "outputs": [
        {
          "output_type": "execute_result",
          "data": {
            "text/plain": [
              "7"
            ]
          },
          "metadata": {},
          "execution_count": 15
        }
      ]
    },
    {
      "cell_type": "code",
      "source": [
        "tt1[1] * tt1[3]"
      ],
      "metadata": {
        "colab": {
          "base_uri": "https://localhost:8080/"
        },
        "id": "vDyurwytVQDx",
        "outputId": "16f77f06-a499-4ce2-aba7-f42ec8c5a8d9"
      },
      "execution_count": null,
      "outputs": [
        {
          "output_type": "execute_result",
          "data": {
            "text/plain": [
              "8"
            ]
          },
          "metadata": {},
          "execution_count": 16
        }
      ]
    },
    {
      "cell_type": "code",
      "source": [
        "numlist = [num * num for num in range(1,7)]\n",
        "numlist"
      ],
      "metadata": {
        "colab": {
          "base_uri": "https://localhost:8080/"
        },
        "id": "FtXZuhooXwBk",
        "outputId": "29502bc9-7c54-4cce-f4a2-66dbf7f22b55"
      },
      "execution_count": null,
      "outputs": [
        {
          "output_type": "execute_result",
          "data": {
            "text/plain": [
              "[1, 4, 9, 16, 25, 36]"
            ]
          },
          "metadata": {},
          "execution_count": 18
        }
      ]
    },
    {
      "cell_type": "code",
      "source": [
        "numlist = [num * num for num in range(1,7)if num == 2]\n",
        "numlist"
      ],
      "metadata": {
        "colab": {
          "base_uri": "https://localhost:8080/"
        },
        "id": "7NCRZyfJX7ik",
        "outputId": "47738b55-deac-467a-c10d-8e6096b574b5"
      },
      "execution_count": null,
      "outputs": [
        {
          "output_type": "execute_result",
          "data": {
            "text/plain": [
              "[4]"
            ]
          },
          "metadata": {},
          "execution_count": 20
        }
      ]
    },
    {
      "cell_type": "code",
      "source": [
        "num = [1, 2, 3, 4]\n",
        "ee = ['일', '이', '삼', '사']\n",
        "\n",
        "for i, k in zip(num, ee):\n",
        "  print(i, '-->', k)\n",
        "\n",
        "#zip()함수를 통해 동시에 여러 리스트 접근"
      ],
      "metadata": {
        "colab": {
          "base_uri": "https://localhost:8080/"
        },
        "id": "sk19W_3TYbAR",
        "outputId": "7994ae4b-c59f-4a5f-c523-2ad409b5e2bb"
      },
      "execution_count": null,
      "outputs": [
        {
          "output_type": "stream",
          "name": "stdout",
          "text": [
            "1 --> 일\n",
            "2 --> 이\n",
            "3 --> 삼\n",
            "4 --> 사\n"
          ]
        }
      ]
    },
    {
      "cell_type": "code",
      "source": [
        "old = [1, 2, 3]\n",
        "new = old\n",
        "old[0] = '일'\n",
        "old.append('삼')\n",
        "new\n",
        "\n",
        "#위에서 new = old를 선언 했음에도 최종 new 값으로 old와 동일하게 선언되었다\n",
        "#즉, new = old를 선언함으로 동일 메모리 공간을 공유하게 된 것이다"
      ],
      "metadata": {
        "colab": {
          "base_uri": "https://localhost:8080/"
        },
        "id": "ntNBdLISYyuJ",
        "outputId": "90d02a91-070b-4cee-90c9-ec5b646d589c"
      },
      "execution_count": null,
      "outputs": [
        {
          "output_type": "execute_result",
          "data": {
            "text/plain": [
              "['일', 2, 3, '삼']"
            ]
          },
          "metadata": {},
          "execution_count": 23
        }
      ]
    },
    {
      "cell_type": "code",
      "source": [
        "old = [1, 2, 3]\n",
        "new = old[:]\n",
        "old[0] = '일'\n",
        "old.append('삼')\n",
        "new\n",
        "\n",
        "#[:]를 추가함으로 별도의 메모리 공간을 갖게 해줌으로 방지 할 수 있다"
      ],
      "metadata": {
        "colab": {
          "base_uri": "https://localhost:8080/"
        },
        "id": "6LrtTfAkZPve",
        "outputId": "07c3d3b5-50b8-4aa0-9a83-59deecd95f0a"
      },
      "execution_count": null,
      "outputs": [
        {
          "output_type": "execute_result",
          "data": {
            "text/plain": [
              "[1, 2, 3]"
            ]
          },
          "metadata": {},
          "execution_count": 24
        }
      ]
    },
    {
      "cell_type": "code",
      "source": [
        "ss = '종강시켜줘'\n",
        "print(ss[0])\n",
        "print(ss[::-1])\n",
        "print(ss * 3)\n",
        "len(ss)"
      ],
      "metadata": {
        "colab": {
          "base_uri": "https://localhost:8080/"
        },
        "id": "fgp3Ry0NZ5O4",
        "outputId": "57426245-4644-4c42-95c3-4e6a65f7f333"
      },
      "execution_count": null,
      "outputs": [
        {
          "output_type": "stream",
          "name": "stdout",
          "text": [
            "종\n",
            "줘켜시강종\n",
            "종강시켜줘종강시켜줘종강시켜줘\n"
          ]
        },
        {
          "output_type": "execute_result",
          "data": {
            "text/plain": [
              "5"
            ]
          },
          "metadata": {},
          "execution_count": 27
        }
      ]
    },
    {
      "cell_type": "markdown",
      "source": [
        "**문자열 찾기**\n",
        "\n",
        "* .find(찾을 문자열)\n",
        "\n",
        "0부터 시작해서 몇 번째인지 찾음\n",
        "\n",
        ".find(찾을 문자열, 5)\n",
        "\n",
        "5번째부터 시작해서 찾음\n",
        "\n",
        "*  .rfind(찾을 문자열\n",
        "\n",
        "뒤부터 시작해서 몇 번째인지 찾음\n",
        "\n",
        "둘 다 찾을 문자열이 없을 경우 -1을 반환\n",
        "*   .index(찾을 문자열), .rindex(찾을 문자열)\n",
        "\n",
        "기능은 .find()와 같으나 해당 문자열이 없을 경우 오류 발생\n",
        "\n",
        "\n",
        "\n",
        "*   .startswith(시작 부분), .endswith(끝 부분)\n",
        "\n",
        "해당 문자열을 찾을 경우 True반환, 아니면 False 반환\n",
        "\n"
      ],
      "metadata": {
        "id": "rsXl_df2a61e"
      }
    },
    {
      "cell_type": "markdown",
      "source": [
        "**문자열 공백 삭제/변경**\n",
        "\n",
        "\n",
        "\n",
        "*   .strip(), .rstrip, .lstrip\n",
        "\n",
        "문자열 앞뒤의 공백/특정 문자 삭제\n",
        "\n",
        "*   .replace()\n",
        "\n",
        ".replace('기존문자열', '새문자열')"
      ],
      "metadata": {
        "id": "cHF99d5QcKpX"
      }
    },
    {
      "cell_type": "code",
      "source": [
        "ss = ' prog      '\n",
        "print(ss.strip)\n",
        "print(ss.rstrip)\n",
        "ss.lstrip"
      ],
      "metadata": {
        "colab": {
          "base_uri": "https://localhost:8080/"
        },
        "id": "rbAKIJ7Ecx99",
        "outputId": "579b9fa0-2dd4-4ee2-f663-32650301559d"
      },
      "execution_count": null,
      "outputs": [
        {
          "output_type": "stream",
          "name": "stdout",
          "text": [
            "<built-in method strip of str object at 0x7fa2e28fdb30>\n",
            "<built-in method rstrip of str object at 0x7fa2e28fdb30>\n"
          ]
        },
        {
          "output_type": "execute_result",
          "data": {
            "text/plain": [
              "<function str.lstrip(chars=None, /)>"
            ]
          },
          "metadata": {},
          "execution_count": 29
        }
      ]
    },
    {
      "cell_type": "code",
      "source": [
        "ss1 = '아 에 이 오우'\n",
        "print(ss1.replace('에', 'dkdkdk'))\n",
        "\n",
        "s = 'aaakakakaa'\n",
        "s.replace('k','아')"
      ],
      "metadata": {
        "colab": {
          "base_uri": "https://localhost:8080/",
          "height": 54
        },
        "id": "LfHXB5JbdL8X",
        "outputId": "f43a4571-a419-4939-8be0-40b5af48f8a0"
      },
      "execution_count": null,
      "outputs": [
        {
          "output_type": "stream",
          "name": "stdout",
          "text": [
            "아 dkdkdk 이 오우\n"
          ]
        },
        {
          "output_type": "execute_result",
          "data": {
            "text/plain": [
              "'aaa아a아a아aa'"
            ],
            "application/vnd.google.colaboratory.intrinsic+json": {
              "type": "string"
            }
          },
          "metadata": {},
          "execution_count": 41
        }
      ]
    },
    {
      "cell_type": "markdown",
      "source": [
        "**대/소문자 변환**\n",
        "\n",
        "\n",
        "\n",
        "*   .upper()\n",
        "*   .lower()\n",
        "\n",
        "문자열 전체 대/소문자\n",
        "\n",
        "\n",
        "*   .swapcase()\n",
        "*   .title()\n",
        "\n",
        "\n",
        "\n"
      ],
      "metadata": {
        "id": "dW8hqM-QdFXA"
      }
    },
    {
      "cell_type": "code",
      "source": [
        "ss2 = 'colab study'\n",
        "print(ss2.swapcase())\n",
        "print(ss2.title())"
      ],
      "metadata": {
        "colab": {
          "base_uri": "https://localhost:8080/"
        },
        "id": "8eCl5DE1dkPq",
        "outputId": "2413a736-e6be-4cb2-dd80-da26474192fd"
      },
      "execution_count": null,
      "outputs": [
        {
          "output_type": "stream",
          "name": "stdout",
          "text": [
            "COLAB STUDY\n",
            "Colab Study\n"
          ]
        }
      ]
    },
    {
      "cell_type": "markdown",
      "source": [
        "**문자열 분리/결합**\n",
        "\n",
        "\n",
        "\n",
        "*   .split()\n",
        "\n",
        "\n",
        "*   .splitlines\n",
        "\n",
        "행 단위로 분리\n",
        "*   .join()\n",
        "\n",
        "\n"
      ],
      "metadata": {
        "id": "BkgUCHfGeBzc"
      }
    },
    {
      "cell_type": "code",
      "source": [
        "ss = '파 파 파 이 이 썬'\n",
        "ss.split()"
      ],
      "metadata": {
        "colab": {
          "base_uri": "https://localhost:8080/"
        },
        "id": "x53chuxBe56F",
        "outputId": "4a6e6037-b299-4214-d7d7-cad5f2f267da"
      },
      "execution_count": null,
      "outputs": [
        {
          "output_type": "execute_result",
          "data": {
            "text/plain": [
              "['파', '파', '파', '이', '이', '썬']"
            ]
          },
          "metadata": {},
          "execution_count": 43
        }
      ]
    },
    {
      "cell_type": "code",
      "source": [
        "ss = '아:아:아'\n",
        "ss.split(':')"
      ],
      "metadata": {
        "colab": {
          "base_uri": "https://localhost:8080/"
        },
        "id": "YrqnWt7Ye_VK",
        "outputId": "95201e68-f4b2-485a-feb5-fa3da65727fc"
      },
      "execution_count": null,
      "outputs": [
        {
          "output_type": "execute_result",
          "data": {
            "text/plain": [
              "['아', '아', '아']"
            ]
          },
          "metadata": {},
          "execution_count": 44
        }
      ]
    },
    {
      "cell_type": "code",
      "source": [
        "ss = '%%'\n",
        "ss.join('파이썬')"
      ],
      "metadata": {
        "colab": {
          "base_uri": "https://localhost:8080/",
          "height": 35
        },
        "id": "IcepezQAerOi",
        "outputId": "394d57b4-3785-47a2-d33a-c809f75a0608"
      },
      "execution_count": null,
      "outputs": [
        {
          "output_type": "execute_result",
          "data": {
            "text/plain": [
              "'파%%이%%썬'"
            ],
            "application/vnd.google.colaboratory.intrinsic+json": {
              "type": "string"
            }
          },
          "metadata": {},
          "execution_count": 42
        }
      ]
    },
    {
      "cell_type": "markdown",
      "source": [
        "**함수명 대입**\n",
        "\n",
        "\n",
        "\n",
        "*   .map()\n",
        "\n"
      ],
      "metadata": {
        "id": "LOntWod5fPuW"
      }
    },
    {
      "cell_type": "code",
      "source": [
        "aaaa = '아아'\n",
        "\n",
        "replace = list(map(str, aaaa))\n",
        "replace"
      ],
      "metadata": {
        "colab": {
          "base_uri": "https://localhost:8080/"
        },
        "id": "kYYHZAzafT7i",
        "outputId": "b7c255ff-01d8-4d9a-8020-68297435af8e"
      },
      "execution_count": null,
      "outputs": [
        {
          "output_type": "execute_result",
          "data": {
            "text/plain": [
              "['아', '아']"
            ]
          },
          "metadata": {},
          "execution_count": 46
        }
      ]
    },
    {
      "cell_type": "markdown",
      "source": [
        "**문자열 정렬 채우기**\n",
        "\n",
        "\n",
        "\n",
        "*   .center()\n",
        "*   .ljust()\n",
        "\n",
        "\n",
        "*   .rjust()\n",
        "*   .zfill()\n",
        "\n",
        "\n"
      ],
      "metadata": {
        "id": "IJo9rxXSfkd2"
      }
    },
    {
      "cell_type": "code",
      "source": [
        "ss = 'python'\n",
        "print(ss.center(10))"
      ],
      "metadata": {
        "colab": {
          "base_uri": "https://localhost:8080/"
        },
        "id": "6B3agAc9gHrh",
        "outputId": "66edb326-f95f-4b24-897d-e91f2dd107d2"
      },
      "execution_count": null,
      "outputs": [
        {
          "output_type": "stream",
          "name": "stdout",
          "text": [
            "  python  \n"
          ]
        }
      ]
    },
    {
      "cell_type": "code",
      "source": [
        "print(ss.center(10, '-'))\n",
        "ss.zfill(10) #오른 쪽으로 붙이고 빈 공간에 0 추가"
      ],
      "metadata": {
        "colab": {
          "base_uri": "https://localhost:8080/",
          "height": 54
        },
        "id": "MQAK5lUEgNFd",
        "outputId": "4b7cc666-5f26-4ad4-ad8c-f27004464e81"
      },
      "execution_count": null,
      "outputs": [
        {
          "output_type": "stream",
          "name": "stdout",
          "text": [
            "--python--\n"
          ]
        },
        {
          "output_type": "execute_result",
          "data": {
            "text/plain": [
              "'0000python'"
            ],
            "application/vnd.google.colaboratory.intrinsic+json": {
              "type": "string"
            }
          },
          "metadata": {},
          "execution_count": 50
        }
      ]
    },
    {
      "cell_type": "markdown",
      "source": [
        "**문자열 구성 파악하기**\n",
        "\n",
        "문자열의 구성 성분을 파악해 True, False로 반환\n",
        "\n",
        "\n",
        "\n",
        "*   .isdigit()\n",
        "\n",
        "문자열이 숫자로만 구성되었는지 확인\n",
        "*   .isalpha()\n",
        "\n",
        "문자열이 영어, 한글로만 구성되었는지 확인\n",
        "\n",
        "*   .islower()\n",
        "\n",
        "문자열이 소문자로만 구성되었는지 확인\n",
        "*   .isupper()\n",
        "\n",
        "문자열이 대문자로만 구성되었는지 확인\n",
        "\n",
        "*   .isalnum()\n",
        "\n",
        "문자열에 글자와 숫자가 섞여있는지 확인\n",
        "*   .isspace()\n",
        "\n",
        "문자열이 공백문자로만 구성되었는지 확인"
      ],
      "metadata": {
        "id": "8YUToDD-f12B"
      }
    },
    {
      "cell_type": "code",
      "source": [
        "def fun1():\n",
        "  a = 20\n",
        "  print(\"fun1 = %d\" %a)  #지역변수 a값\n",
        "\n",
        "def fun2():\n",
        "  print(\"fun2 = %d\" %a)  #전역변수 a값\n",
        "\n",
        "a = 10\n",
        "\n",
        "fun1()\n",
        "fun2()"
      ],
      "metadata": {
        "colab": {
          "base_uri": "https://localhost:8080/"
        },
        "id": "EVO-3_fdlM9O",
        "outputId": "1e4ca8ba-cc52-41b2-ec58-71fe0442c5dd"
      },
      "execution_count": null,
      "outputs": [
        {
          "output_type": "stream",
          "name": "stdout",
          "text": [
            "fun1 = 20\n",
            "fun2 = 10\n"
          ]
        }
      ]
    },
    {
      "cell_type": "code",
      "source": [
        "def fun1():\n",
        "  global a\n",
        "  a = 10\n",
        "  print(a)\n",
        "\n",
        "def fun2():\n",
        "  print(a)\n",
        "\n",
        "a = 30\n",
        "\n",
        "fun1()\n",
        "fun2()"
      ],
      "metadata": {
        "colab": {
          "base_uri": "https://localhost:8080/"
        },
        "id": "Kp5AsRTqlwXj",
        "outputId": "498fbf75-cf87-4500-a4dd-b8e155bdcdba"
      },
      "execution_count": null,
      "outputs": [
        {
          "output_type": "stream",
          "name": "stdout",
          "text": [
            "10\n",
            "10\n"
          ]
        }
      ]
    },
    {
      "cell_type": "markdown",
      "source": [
        "\n",
        "\n",
        "*   global 함수\n",
        "\n",
        "위의 코드를 보면 알 수 있듯 global a 선언을 통해 기존 전역변수 a 값을 삭제한 후 4열에서 다시 a를 10의 값을 가진 전역변수로 선언함\n"
      ],
      "metadata": {
        "id": "DYKnscECl7To"
      }
    },
    {
      "cell_type": "markdown",
      "source": [
        "여러 매개변수를 동시에 처리하는 경우\n",
        "\n",
        "*매개변수\n",
        "\n",
        "=> 튜플 형태로 처리된다"
      ],
      "metadata": {
        "id": "Mjk7OdTRoLCc"
      }
    },
    {
      "cell_type": "code",
      "source": [
        "def sub(*para):\n",
        "  result = 0\n",
        "  for num in para:\n",
        "    result += num\n",
        "  return result\n",
        "\n",
        "a = sub(10, 20)\n",
        "print(a)"
      ],
      "metadata": {
        "colab": {
          "base_uri": "https://localhost:8080/"
        },
        "id": "QY_rJxs5oTIt",
        "outputId": "aa299fee-756c-41f9-86be-6f256b18c590"
      },
      "execution_count": null,
      "outputs": [
        {
          "output_type": "stream",
          "name": "stdout",
          "text": [
            "30\n"
          ]
        }
      ]
    },
    {
      "cell_type": "markdown",
      "source": [
        "**매개변수\n",
        "\n",
        "의 형태로 입력할 경우 튜플이 아닌 딕셔너리 타입으로 처리된다"
      ],
      "metadata": {
        "id": "HCZweLPyon8_"
      }
    },
    {
      "cell_type": "code",
      "source": [
        "def dic(**para):\n",
        "  for k in para.keys():\n",
        "    print(\"%s --> %d\" %(k, para[k]))\n",
        "\n",
        "dic(일 = 1, 이 = 2, 삼 = 3)"
      ],
      "metadata": {
        "colab": {
          "base_uri": "https://localhost:8080/"
        },
        "id": "YSbhjT-rouBH",
        "outputId": "d62426f5-3248-4246-b528-9ce0f29069e6"
      },
      "execution_count": null,
      "outputs": [
        {
          "output_type": "stream",
          "name": "stdout",
          "text": [
            "일 --> 1\n",
            "이 --> 2\n",
            "삼 --> 3\n"
          ]
        }
      ]
    },
    {
      "cell_type": "markdown",
      "source": [
        "**파일 열기 모드**\n",
        "\n",
        "\n",
        "\n",
        "*   읽기용\n",
        "\n",
        "변수명 = open(\"파일명\", \"r\")\n",
        "*   쓰기용\n",
        "\n",
        "변수명 = open(\"파일명\", \"w\")\n",
        "\n",
        "\n",
        "\n",
        "\n",
        "\n",
        "*   생략 = r\n",
        "\n",
        "읽기 모드, 기본값\n",
        "*   w\n",
        "\n",
        "쓰기 모드, 기존에 파일이 있으면 덮어쓴다\n",
        "*   r+\n",
        "\n",
        "읽기/쓰기 겸용\n",
        "*   a\n",
        "\n",
        "쓰기 모드. 기존에 파일이 있으면 이어 쓴다 (append)\n",
        "*   t\n",
        "\n",
        "텍스트 모드, 텍스트 파일을 처리한다, 기본값\n",
        "*   b\n",
        "\n",
        "이진 모드, 이진 파일을 처리한다\n",
        "\n",
        "\n",
        "**파일 닫기**\n",
        "\n",
        "\n",
        "\n",
        "*   .close()\n",
        "\n"
      ],
      "metadata": {
        "id": "YXbAv6zxpihC"
      }
    },
    {
      "cell_type": "markdown",
      "source": [
        "**대표적 에러 종류**\n",
        "\n",
        "\n",
        "\n",
        "\n",
        "*   ImportError\n",
        "\n",
        "import문에서 오류 발생\n",
        "*   IndexError\n",
        "\n",
        "리스트 등 첨자의 범위를 벗어날 때\n",
        "*   KeyError\n",
        "\n",
        "딕셔너리에서 키가 없을 때\n",
        "*   KeyBoardInterrupt\n",
        "\n",
        "프로그램 실행 중 ctrl+c누를 때\n",
        "\n",
        "*   NameError\n",
        "\n",
        "변수명이 없는 것에 접근 할 때\n",
        "*   RecursionError\n",
        "\n",
        "재귀 호출의 횟수가 시스템에서 설정한 것보다 넘칠 때(1000번)\n",
        "\n",
        "*   RuntimeError\n",
        "\n",
        "실행이 발생할 때\n",
        "*   SyntaxError\n",
        "\n",
        "exec()나 eval()에서 문법상 오류가 발생할 때\n",
        "\n",
        "*   TypeError\n",
        "\n",
        "변수형의 오류가 발생했을 때 ex)문자열-문자열 연산\n",
        "*   ValueError\n",
        "\n",
        "함수의 매개변수에 잘못된 값을 넘길 때 ex)int('파이썬')\n",
        "\n",
        "\n",
        "*   ZeroDivisionError\n",
        "\n",
        "0으로 나눌 때\n",
        "*   IOError\n",
        "\n",
        "파일 처리 등 오류일 \n",
        "\n",
        "\n",
        "*   SyntaxError\n",
        "\n",
        "문자블록의 구문 속 오류"
      ],
      "metadata": {
        "id": "AwcadIaSrxHY"
      }
    },
    {
      "cell_type": "markdown",
      "source": [
        "# **class**\n",
        "\n",
        "\n",
        "* 1. 클래스 선언\n",
        "\n",
        "class:\n",
        "\n",
        "  필드선언\n",
        "\n",
        "  메서드 선언\n",
        "\n",
        "* 2. 인스턴스 생성\n",
        "\n",
        "인스턴스 = 클래스명()\n",
        "\n",
        "* 3. 필드나 메서드에서 활용\n",
        "\n",
        "인스턴스.필드명 = 값\n",
        "\n",
        "인스턴스.메서드()"
      ],
      "metadata": {
        "id": "6uCz9pWZU5IU"
      }
    },
    {
      "cell_type": "code",
      "source": [
        "class car:\n",
        "  color = \"\"\n",
        "  speed = 0\n",
        "\n",
        "  def speedup(self, value):\n",
        "    self.speed += value\n",
        "\n",
        "  def speeddown(self,value):\n",
        "    self.speed -= value\n",
        "\n",
        "car1 = car()\n",
        "car1.color = \"검정\"\n",
        "car1.speed = 10\n",
        "\n",
        "car2 = car()\n",
        "car2.color = \"파랑\"\n",
        "car2.speed = 40\n",
        "\n",
        "car1.speedup(10)\n",
        "\n",
        "car2.speeddown(20)\n",
        "\n",
        "print(car1.color, car1.speed)\n",
        "print(car2.color, car2.speed)"
      ],
      "metadata": {
        "id": "9tbLdPfHU7CC",
        "outputId": "cfc4e271-cd14-4be0-8676-8db55b4995fe",
        "colab": {
          "base_uri": "https://localhost:8080/"
        }
      },
      "execution_count": 4,
      "outputs": [
        {
          "output_type": "stream",
          "name": "stdout",
          "text": [
            "검정 20\n",
            "파랑 20\n"
          ]
        }
      ]
    },
    {
      "cell_type": "code",
      "source": [
        "class car:\n",
        "  color = \"\"\n",
        "  speed = 0\n",
        "\n",
        "  def __init__(self, clr, spd):\n",
        "    self.color = clr\n",
        "    self.speed = spd\n",
        "\n",
        "\n",
        "car2 = car(\"파랑\", 30)\n",
        "\n",
        "print(car2.color, car2.speed)"
      ],
      "metadata": {
        "id": "FsGKSkzZWnWm",
        "outputId": "aaba9805-aaf0-48b3-fb42-c72cb7f49d73",
        "colab": {
          "base_uri": "https://localhost:8080/"
        }
      },
      "execution_count": 10,
      "outputs": [
        {
          "output_type": "stream",
          "name": "stdout",
          "text": [
            "파랑 30\n"
          ]
        }
      ]
    },
    {
      "cell_type": "markdown",
      "source": [
        "\n",
        "\n",
        "*   __init__()\n",
        "\n",
        "생성자\n",
        "\n"
      ],
      "metadata": {
        "id": "OZMaRr85Xv0n"
      }
    },
    {
      "cell_type": "code",
      "source": [
        "class car:\n",
        "  speed = 0\n",
        "  car_count = 0\n",
        "\n",
        "  def __init__(self):\n",
        "    self.speed = 0\n",
        "    car.car_count += 1\n",
        "\n",
        "car1, car2 = None, None\n",
        "\n",
        "car1 = car()\n",
        "car1.speed = 20\n",
        "\n",
        "print(car1.speed, car.car_count)\n",
        "\n",
        "car2 = car()\n",
        "car2.speed = 30\n",
        "\n",
        "print(car2.speed, car2.car_count)"
      ],
      "metadata": {
        "id": "GMTmr3VcYNsg",
        "outputId": "85eeced5-f86f-473e-af04-ea6512dc13c3",
        "colab": {
          "base_uri": "https://localhost:8080/"
        }
      },
      "execution_count": 21,
      "outputs": [
        {
          "output_type": "stream",
          "name": "stdout",
          "text": [
            "20 1\n",
            "30 2\n"
          ]
        }
      ]
    },
    {
      "cell_type": "markdown",
      "source": [
        "**메서드 오버라이딩**\n",
        "\n",
        "상위 클래스의 매서드를 서브 클래서에서 재정의하는 것"
      ],
      "metadata": {
        "id": "NMkPLWv1gxVd"
      }
    },
    {
      "cell_type": "code",
      "source": [
        "class car:\n",
        "  speed = 0\n",
        "  def upspeed(self, value):\n",
        "    self.speed += value\n",
        "\n",
        "    print(self.speed)\n",
        "\n",
        "class truck(car):\n",
        "  def upspeed(self, value):\n",
        "    self.speed += value\n",
        "\n",
        "    if self.speed > 150:\n",
        "      self.speed = 150\n",
        "class f1(car):\n",
        "  pass\n",
        "\n",
        "f11, truck1 = None, None\n",
        "\n",
        "f11 = f1()\n",
        "truck1 = truck()\n",
        "\n",
        "f11.upspeed = 300\n",
        "print(f11.upspeed)\n",
        "truck1.upspeed = 120\n",
        "print(truck1.upspeed)"
      ],
      "metadata": {
        "id": "kHH0zoYlg5tG",
        "outputId": "03e309a9-b352-4161-e789-abf755b63144",
        "colab": {
          "base_uri": "https://localhost:8080/"
        }
      },
      "execution_count": 31,
      "outputs": [
        {
          "output_type": "stream",
          "name": "stdout",
          "text": [
            "300\n",
            "120\n"
          ]
        }
      ]
    }
  ]
}