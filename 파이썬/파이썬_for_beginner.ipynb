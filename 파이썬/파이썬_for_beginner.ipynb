{
  "nbformat": 4,
  "nbformat_minor": 0,
  "metadata": {
    "colab": {
      "provenance": [],
      "authorship_tag": "ABX9TyNrQmMsMTuFEtVqi+UxssbP",
      "include_colab_link": true
    },
    "kernelspec": {
      "name": "python3",
      "display_name": "Python 3"
    },
    "language_info": {
      "name": "python"
    }
  },
  "cells": [
    {
      "cell_type": "markdown",
      "metadata": {
        "id": "view-in-github",
        "colab_type": "text"
      },
      "source": [
        "<a href=\"https://colab.research.google.com/github/JYP0824/study/blob/main/%ED%8C%8C%EC%9D%B4%EC%8D%AC_for_beginner.ipynb\" target=\"_parent\"><img src=\"https://colab.research.google.com/assets/colab-badge.svg\" alt=\"Open In Colab\"/></a>"
      ]
    },
    {
      "cell_type": "markdown",
      "source": [
        "\n",
        "\n",
        "*   input()\n",
        "값 입력 함수\n"
      ],
      "metadata": {
        "id": "x6wtnq1mHAL0"
      }
    },
    {
      "cell_type": "code",
      "source": [
        " a = input()\n",
        "\n",
        "print(a)"
      ],
      "metadata": {
        "colab": {
          "base_uri": "https://localhost:8080/"
        },
        "id": "oSWaAYZ4Jrkf",
        "outputId": "43abcf5f-cff6-41c7-9588-96e60e23eef9"
      },
      "execution_count": 4,
      "outputs": [
        {
          "output_type": "stream",
          "name": "stdout",
          "text": [
            "ww\n",
            "ww\n"
          ]
        }
      ]
    },
    {
      "cell_type": "markdown",
      "source": [
        "\n",
        "\n",
        "*   int()\n",
        "input()함수의 경우 문자열만 입력함\n",
        "int()를 이용해 정수로 변환해보기\n",
        "\n"
      ],
      "metadata": {
        "id": "_6NiJlpUKCS8"
      }
    },
    {
      "cell_type": "code",
      "source": [
        "a = int(input())\n",
        "print(a)"
      ],
      "metadata": {
        "colab": {
          "base_uri": "https://localhost:8080/"
        },
        "id": "yn5UosY8KUTH",
        "outputId": "b97808e4-01f1-44f5-80fd-f8b666b1b9ec"
      },
      "execution_count": 7,
      "outputs": [
        {
          "output_type": "stream",
          "name": "stdout",
          "text": [
            "12\n",
            "12\n"
          ]
        }
      ]
    },
    {
      "cell_type": "code",
      "source": [
        "a = int(input())\n",
        "print(a)\n",
        "\n",
        "#정수 이외의 값 입력 시 에러 발생"
      ],
      "metadata": {
        "colab": {
          "base_uri": "https://localhost:8080/",
          "height": 227
        },
        "id": "C7-bolnIKoA6",
        "outputId": "e5f08e80-7da3-4771-8cf0-aacab90ba512"
      },
      "execution_count": 8,
      "outputs": [
        {
          "name": "stdout",
          "output_type": "stream",
          "text": [
            "12.11\n"
          ]
        },
        {
          "output_type": "error",
          "ename": "ValueError",
          "evalue": "ignored",
          "traceback": [
            "\u001b[0;31m---------------------------------------------------------------------------\u001b[0m",
            "\u001b[0;31mValueError\u001b[0m                                Traceback (most recent call last)",
            "\u001b[0;32m<ipython-input-8-c1b0586636a0>\u001b[0m in \u001b[0;36m<cell line: 1>\u001b[0;34m()\u001b[0m\n\u001b[0;32m----> 1\u001b[0;31m \u001b[0ma\u001b[0m \u001b[0;34m=\u001b[0m \u001b[0mint\u001b[0m\u001b[0;34m(\u001b[0m\u001b[0minput\u001b[0m\u001b[0;34m(\u001b[0m\u001b[0;34m)\u001b[0m\u001b[0;34m)\u001b[0m\u001b[0;34m\u001b[0m\u001b[0;34m\u001b[0m\u001b[0m\n\u001b[0m\u001b[1;32m      2\u001b[0m \u001b[0mb\u001b[0m \u001b[0;34m=\u001b[0m \u001b[0mint\u001b[0m\u001b[0;34m(\u001b[0m\u001b[0minput\u001b[0m\u001b[0;34m(\u001b[0m\u001b[0;34m)\u001b[0m\u001b[0;34m)\u001b[0m\u001b[0;34m\u001b[0m\u001b[0;34m\u001b[0m\u001b[0m\n\u001b[1;32m      3\u001b[0m \u001b[0mprint\u001b[0m\u001b[0;34m(\u001b[0m\u001b[0ma\u001b[0m\u001b[0;34m,\u001b[0m \u001b[0mb\u001b[0m\u001b[0;34m)\u001b[0m\u001b[0;34m\u001b[0m\u001b[0;34m\u001b[0m\u001b[0m\n",
            "\u001b[0;31mValueError\u001b[0m: invalid literal for int() with base 10: '12.11'"
          ]
        }
      ]
    },
    {
      "cell_type": "code",
      "source": [
        "a = float(input())\n",
        "\n",
        "print(a)"
      ],
      "metadata": {
        "colab": {
          "base_uri": "https://localhost:8080/"
        },
        "id": "GWIdptFhK5lY",
        "outputId": "d02a58cb-6d41-4abd-ebc8-d9023ee26b19"
      },
      "execution_count": 10,
      "outputs": [
        {
          "output_type": "stream",
          "name": "stdout",
          "text": [
            "12.11\n",
            "12.11\n"
          ]
        }
      ]
    },
    {
      "cell_type": "markdown",
      "source": [
        "\n",
        "\n",
        "*   %d\n",
        "지정된 서식 추가\n",
        "\n"
      ],
      "metadata": {
        "id": "NbqCpV4MLcL7"
      }
    },
    {
      "cell_type": "code",
      "source": [
        "print(\"%d\" % 100)\n",
        "\n",
        "print(\"%d\" % (100 + 100))"
      ],
      "metadata": {
        "colab": {
          "base_uri": "https://localhost:8080/"
        },
        "id": "AMv-zHd5Lf-u",
        "outputId": "7ff59c94-7ddf-43d8-e709-94a9850caff9"
      },
      "execution_count": 12,
      "outputs": [
        {
          "output_type": "stream",
          "name": "stdout",
          "text": [
            "100\n",
            "200\n"
          ]
        }
      ]
    },
    {
      "cell_type": "markdown",
      "source": [
        "\n",
        "**print()함수에 사용할 수 있는 서식**\n",
        "\n",
        "*   %d, %x %o\n",
        "\n",
        "정수(10진수, 16진수, 8진수)\n",
        "*   %f\n",
        "\n",
        "실수\n",
        "*   %c\n",
        "\n",
        "한 글자\n",
        "*   %s\n",
        "\n",
        "문자열\n",
        "\n",
        "\n",
        "\n"
      ],
      "metadata": {
        "id": "NG7j6pLOLsoz"
      }
    },
    {
      "cell_type": "markdown",
      "source": [
        "\n",
        "\n",
        "*   .format()\n",
        "\n",
        "출력 순서 제어 함수\n"
      ],
      "metadata": {
        "id": "UCWt1irGMPqC"
      }
    },
    {
      "cell_type": "code",
      "source": [
        "print(\"{0:d} {2:d} {1:d}\".format(10, 20, 30))"
      ],
      "metadata": {
        "colab": {
          "base_uri": "https://localhost:8080/"
        },
        "id": "1NCqBFlvMUHD",
        "outputId": "382388cc-7990-4c6e-97fc-74d929a4720c"
      },
      "execution_count": 13,
      "outputs": [
        {
          "output_type": "stream",
          "name": "stdout",
          "text": [
            "10 30 20\n"
          ]
        }
      ]
    },
    {
      "cell_type": "code",
      "source": [
        "s1, s2 = 100, 101.12\n",
        "\n",
        "print(int(s1)+ 1, float(s2) + 1)"
      ],
      "metadata": {
        "colab": {
          "base_uri": "https://localhost:8080/"
        },
        "id": "ako20BG8OmGt",
        "outputId": "f7567fd0-2cbb-4c5c-b1f1-3023dfee41d6"
      },
      "execution_count": 16,
      "outputs": [
        {
          "output_type": "stream",
          "name": "stdout",
          "text": [
            "101 102.12\n"
          ]
        }
      ]
    },
    {
      "cell_type": "code",
      "source": [
        "import numpy as np\n",
        "\n",
        "numb = []\n",
        "\n",
        "for i in range(0,10):\n",
        "  numb.append(np.random.rand())\n",
        "\n",
        "\n",
        "for i in range(0, 10):\n",
        "  numb.append(i)\n",
        "\n",
        "numb"
      ],
      "metadata": {
        "colab": {
          "base_uri": "https://localhost:8080/"
        },
        "id": "RlyX1mGXQBsi",
        "outputId": "632e2cd0-7258-4603-bd95-2618fb0aabcd"
      },
      "execution_count": 47,
      "outputs": [
        {
          "output_type": "execute_result",
          "data": {
            "text/plain": [
              "[0.5482704062052599,\n",
              " 0.44439524696768395,\n",
              " 0.958283334803105,\n",
              " 0.17239308576633616,\n",
              " 0.5730988470527811,\n",
              " 0.8572532437645674,\n",
              " 0.0029656382669774883,\n",
              " 0.05544199380396142,\n",
              " 0.21620466938509497,\n",
              " 0.4665955360991485,\n",
              " 0,\n",
              " 1,\n",
              " 2,\n",
              " 3,\n",
              " 4,\n",
              " 5,\n",
              " 6,\n",
              " 7,\n",
              " 8,\n",
              " 9]"
            ]
          },
          "metadata": {},
          "execution_count": 47
        }
      ]
    },
    {
      "cell_type": "code",
      "source": [
        "select = 0\n",
        "\n",
        "select = int(input(\"입력: \"))\n",
        "\n",
        "if select == 1:\n",
        "  print(\"ㅇㅇ\")\n",
        "\n",
        "elif select == 2:\n",
        "  print(\"ㅇㅋ\")\n",
        "\n",
        "else:\n",
        "  print(\"오류, 1, 2 중 입력\")"
      ],
      "metadata": {
        "colab": {
          "base_uri": "https://localhost:8080/"
        },
        "id": "oXGfXFi8Rrsu",
        "outputId": "5cebab03-9efa-4a53-a4bd-7352e91b79be"
      },
      "execution_count": 51,
      "outputs": [
        {
          "output_type": "stream",
          "name": "stdout",
          "text": [
            "입력: 1\n",
            "ㅇㅇ\n"
          ]
        }
      ]
    },
    {
      "cell_type": "code",
      "source": [
        "for i in range(1, 3):\n",
        "  for k in range(1, 10):\n",
        "    print(\"%d * %d = %d \\n\" %(i, k, i*k))"
      ],
      "metadata": {
        "colab": {
          "base_uri": "https://localhost:8080/"
        },
        "id": "KZoyiqOBSGh-",
        "outputId": "3f398f77-f960-4060-ec09-4230d4d937b5"
      },
      "execution_count": 57,
      "outputs": [
        {
          "output_type": "stream",
          "name": "stdout",
          "text": [
            "1 * 1 = 1 \n",
            "\n",
            "1 * 2 = 2 \n",
            "\n",
            "1 * 3 = 3 \n",
            "\n",
            "1 * 4 = 4 \n",
            "\n",
            "1 * 5 = 5 \n",
            "\n",
            "1 * 6 = 6 \n",
            "\n",
            "1 * 7 = 7 \n",
            "\n",
            "1 * 8 = 8 \n",
            "\n",
            "1 * 9 = 9 \n",
            "\n",
            "2 * 1 = 2 \n",
            "\n",
            "2 * 2 = 4 \n",
            "\n",
            "2 * 3 = 6 \n",
            "\n",
            "2 * 4 = 8 \n",
            "\n",
            "2 * 5 = 10 \n",
            "\n",
            "2 * 6 = 12 \n",
            "\n",
            "2 * 7 = 14 \n",
            "\n",
            "2 * 8 = 16 \n",
            "\n",
            "2 * 9 = 18 \n",
            "\n"
          ]
        }
      ]
    },
    {
      "cell_type": "markdown",
      "source": [
        "\n",
        "\n",
        "*   for문\n",
        "\n",
        "for(시작 값, 끝값 + 1, 증가값)\n"
      ],
      "metadata": {
        "id": "qJ1DIEYgS7NY"
      }
    },
    {
      "cell_type": "code",
      "source": [
        "for i in range(1, 10, 2):\n",
        "  print(i)"
      ],
      "metadata": {
        "colab": {
          "base_uri": "https://localhost:8080/"
        },
        "id": "25ElfsqOS6q9",
        "outputId": "637b5867-2302-4afe-c0cf-77c44a903f81"
      },
      "execution_count": 58,
      "outputs": [
        {
          "output_type": "stream",
          "name": "stdout",
          "text": [
            "1\n",
            "3\n",
            "5\n",
            "7\n",
            "9\n"
          ]
        }
      ]
    },
    {
      "cell_type": "markdown",
      "source": [
        "\n",
        "\n",
        "*   while문\n",
        "\n",
        "while 변수 < 끝값:\n",
        "\n",
        "  이 부분 반복\n",
        "\n",
        "  변수 += 증가값\n",
        "\n",
        "\n",
        "\n",
        "while True:\n",
        "\n",
        "  무한반복\n",
        "\n",
        "break를 통해 제어\n",
        "\n",
        "\n",
        "\n",
        "\n",
        "*   break\n",
        "\n",
        "반복문 탈출\n",
        "*   continue\n",
        "\n",
        "반복문으로 다시 돌아감\n",
        "\n",
        "\n",
        "\n",
        "\n",
        "\n"
      ],
      "metadata": {
        "id": "xbfP-EVTTdiY"
      }
    },
    {
      "cell_type": "code",
      "source": [
        "for i in range(1, 10):\n",
        "  if i == 3:\n",
        "    continue\n",
        "  print(i)\n",
        "  "
      ],
      "metadata": {
        "colab": {
          "base_uri": "https://localhost:8080/"
        },
        "id": "x383W2s1U1tj",
        "outputId": "6e7f457e-29d5-4cf9-ada4-d1c1aa2aa404"
      },
      "execution_count": 76,
      "outputs": [
        {
          "output_type": "stream",
          "name": "stdout",
          "text": [
            "1\n",
            "2\n",
            "4\n",
            "5\n",
            "6\n",
            "7\n",
            "8\n",
            "9\n"
          ]
        }
      ]
    },
    {
      "cell_type": "markdown",
      "source": [],
      "metadata": {
        "id": "cSDPWQWheURa"
      }
    },
    {
      "cell_type": "markdown",
      "source": [
        "**list**\n",
        "\n",
        "aa = [10, 20, 30, 40]\n",
        "\n",
        "list[시작:끝+1:증가값] 호출 가능"
      ],
      "metadata": {
        "id": "vRwesscceUWV"
      }
    },
    {
      "cell_type": "code",
      "source": [
        "aa = [0,0]\n",
        "\n",
        "aa[0] = int(input(\"1번: \"))\n",
        "aa[1] = int(input(\"2번: \"))\n",
        "\n",
        "aa\n"
      ],
      "metadata": {
        "colab": {
          "base_uri": "https://localhost:8080/"
        },
        "id": "z8E_LLHdeYi5",
        "outputId": "e1dcd279-f663-4e61-d8c8-08ad52a17ce5"
      },
      "execution_count": 81,
      "outputs": [
        {
          "name": "stdout",
          "output_type": "stream",
          "text": [
            "1번: 1\n",
            "2번: 2\n"
          ]
        },
        {
          "output_type": "execute_result",
          "data": {
            "text/plain": [
              "[1, 2]"
            ]
          },
          "metadata": {},
          "execution_count": 81
        }
      ]
    },
    {
      "cell_type": "code",
      "source": [
        "aa = []\n",
        "\n",
        "aa.append(int(input(\"1번: \")))\n",
        "aa.append(int(input('2번: ')))\n",
        "aa[:1]"
      ],
      "metadata": {
        "colab": {
          "base_uri": "https://localhost:8080/"
        },
        "id": "ErO3e-gde1PT",
        "outputId": "c151a94a-c505-4747-b27b-0c34c17b106d"
      },
      "execution_count": 84,
      "outputs": [
        {
          "name": "stdout",
          "output_type": "stream",
          "text": [
            "1번: 1\n",
            "2번: 2\n"
          ]
        },
        {
          "output_type": "execute_result",
          "data": {
            "text/plain": [
              "[1]"
            ]
          },
          "metadata": {},
          "execution_count": 84
        }
      ]
    },
    {
      "cell_type": "markdown",
      "source": [
        "**list 조작 함수**\n",
        "\n",
        "\n",
        "\n",
        "*   .append()\n",
        "\n",
        "리스트 맨 뒤에 항목 추가\n",
        "\n",
        "list.append(값)\n",
        "*   .pop()\n",
        "\n",
        "리스트 맨 뒤의 항목을 빼낸다(리스트에서 해당 항목이 삭제된다)\n",
        "\n",
        "*   .sort()\n",
        "\n",
        "리스트의 항목을 정렬한다(오름차순)\n",
        "\n",
        "*   .reverse()\n",
        "\n",
        "리스트의 항목의 순서를 역순으로 만든다\n",
        "*   .index()\n",
        "\n",
        "지정한 값을 찾아 해당 위치를 반환한다\n",
        "\n",
        "list.index(찾을 값)\n",
        "*   .insert()\n",
        "\n",
        "지정된 위치에 값을 삽입한다\n",
        "\n",
        "list.insert(위치, 값)\n",
        "*   .remove()\n",
        "\n",
        "리스트에서 지정한 값을 삭제한다. 단, 지정한 값이 여러개일 경우 첫 번째 값만 삭제한다\n",
        "\n",
        "list.remove(지울 값)\n",
        "*   .extend()\n",
        "\n",
        "리스트 뒤에 리스트를 추가한다. 리스트의 더하기 연산과 동일한 기능이다\n",
        "\n",
        "list.extend(추가할 리스트)\n",
        "*   .count()\n",
        "\n",
        "리스트에서 해당 값의 개수를 센다\n",
        "\n",
        "list.count(찾을 값)\n",
        "*   .clear()\n",
        "\n",
        "리스트의 내용을 모두 지운다\n",
        "*   del()\n",
        "\n",
        "리스트에서 해당 위치의 항목을 삭제한다\n",
        "\n",
        "del(list[위치])\n",
        "*   len()\n",
        "\n",
        "리스트에 포함된 전체 항목의 수를 센다\n",
        "\n",
        "len(list)\n",
        "\n",
        "*   copy()\n",
        "\n",
        "리스트의 내용을 새로운 리스트에 복사한다\n",
        "\n",
        "list2 = list.copy()\n",
        "*   sorted()\n",
        "\n",
        "리스트의 항목을 정렬해서 새로운 리스트에 대입한다\n",
        "\n",
        "list2 = sorted(list)\n",
        "\n",
        "\n",
        "\n"
      ],
      "metadata": {
        "id": "r-0IocV4fk3Y"
      }
    }
  ]
}
