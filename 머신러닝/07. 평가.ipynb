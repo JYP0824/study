{
 "cells": [
  {
   "cell_type": "markdown",
   "id": "98762346",
   "metadata": {},
   "source": [
    "분류에 사용되는 성능 평가 지표\n",
    "\n",
    " - 정확도\n",
    " - 오차행렬\n",
    " - 정밀도\n",
    " - 재현률\n",
    " - F1스코어\n",
    " - ROC AUC\n",
    " \n",
    " \n",
    " 긍정/부정과 같은 2개의 결과값을 가지는 이진분류와 여러개의 결정클래스 값을 가지는 멀티 분류 모두 적용되는 평가 지표"
   ]
  },
  {
   "cell_type": "markdown",
   "id": "190d6d3c",
   "metadata": {},
   "source": [
    "### 정확도\n",
    "\n",
    "실제 데이터에서 예측 데이터가 얼마나 같은지를 판단하는 지표\n",
    "\n",
    "직관적으로 모델 예측 성능을 나타냄"
   ]
  },
  {
   "cell_type": "code",
   "execution_count": 1,
   "id": "d5c74b6b",
   "metadata": {},
   "outputs": [],
   "source": [
    "from sklearn.base import BaseEstimator\n",
    "import numpy as np\n",
    "\n",
    "class MyDummyClassifier(BaseEstimator):\n",
    "    def fit(self, X, y=None):\n",
    "        pass\n",
    "    #fit 메서드는 아무것도 학습하지 않음\n",
    "    \n",
    "    def predict(self,X):\n",
    "        pred = np.zeros((X.shape[0],1))\n",
    "        for i in range(X.shape[0]):\n",
    "            if X['Sex'].iloc[i]==1:\n",
    "                pred[i]=0\n",
    "            else:\n",
    "                pred[i]=1\n",
    "        return pred"
   ]
  },
  {
   "cell_type": "code",
   "execution_count": 2,
   "id": "f81d861f",
   "metadata": {
    "scrolled": true
   },
   "outputs": [
    {
     "name": "stdout",
     "output_type": "stream",
     "text": [
      "[0. 1. 0. 1. 0. 1.]\n"
     ]
    }
   ],
   "source": [
    "# 데이터 준비\n",
    "import pandas as pd\n",
    "\n",
    "data = {'Sex': [1, 0, 1, 0, 1, 0],\n",
    "        'OtherFeature': [2.5, 3.2, 1.8, 2.7, 2.0, 3.5]}\n",
    "df = pd.DataFrame(data)\n",
    "\n",
    "# 분류기 생성 및 예측\n",
    "dummy_classifier = MyDummyClassifier()\n",
    "predictions = dummy_classifier.predict(df)\n",
    "\n",
    "print(predictions.reshape(-1))"
   ]
  },
  {
   "cell_type": "code",
   "execution_count": 3,
   "id": "05efe125",
   "metadata": {},
   "outputs": [],
   "source": [
    "from sklearn.datasets import load_digits\n",
    "from sklearn.model_selection import train_test_split\n",
    "from sklearn.base import BaseEstimator\n",
    "from sklearn.metrics import accuracy_score"
   ]
  },
  {
   "cell_type": "code",
   "execution_count": 4,
   "id": "948cc1b9",
   "metadata": {},
   "outputs": [
    {
     "name": "stdout",
     "output_type": "stream",
     "text": [
      "레이블 세트 크기:  (450,)\n",
      "테스트 세트 레이블 0과 1의 분포도\n",
      "0    405\n",
      "1     45\n",
      "dtype: int64\n"
     ]
    }
   ],
   "source": [
    "class MyDummyClassifier(BaseEstimator):\n",
    "    def fit(self, X,y):\n",
    "        pass\n",
    "    def predict(self,X):\n",
    "        return np.zeros((len(X),1), dtype=bool)\n",
    "    \n",
    "digits = load_digits()\n",
    "\n",
    "y = (digits.target==7).astype(int)\n",
    "train_input, test_input, train_target, test_target = train_test_split(digits.data, y, random_state=11)\n",
    "\n",
    "print('레이블 세트 크기: ', test_target.shape)\n",
    "print('테스트 세트 레이블 0과 1의 분포도')\n",
    "print(pd.Series(test_target).value_counts())"
   ]
  },
  {
   "cell_type": "code",
   "execution_count": 5,
   "id": "806fd0ce",
   "metadata": {},
   "outputs": [
    {
     "name": "stdout",
     "output_type": "stream",
     "text": [
      "모든 예측을 0으로 할 경우의 정확도: 0.900\n"
     ]
    }
   ],
   "source": [
    "clf = MyDummyClassifier()\n",
    "clf.fit(train_input, train_target)\n",
    "pred = clf.predict(test_input)\n",
    "score = accuracy_score(pred, test_target)\n",
    "print('모든 예측을 0으로 할 경우의 정확도: {0:.3f}'.format(score))"
   ]
  },
  {
   "cell_type": "markdown",
   "id": "ef2babe7",
   "metadata": {},
   "source": [
    "## 오차행렬\n",
    "\n",
    "학습된 분류 모델이 예측을 수행하며 얼마나 헷갈리고있는지 함께 보여주는 지표\n",
    "\n",
    "예측 오류가 얼마인지와 더불어 어떠한 유형의 예측 오류가 발생하고 있는지 함께 나타냄\n",
    "\n",
    "TN/FN/TP/FP\n",
    "\n",
    "confusion_matrix()"
   ]
  },
  {
   "cell_type": "code",
   "execution_count": 6,
   "id": "d4467791",
   "metadata": {},
   "outputs": [
    {
     "data": {
      "text/plain": [
       "array([[405,   0],\n",
       "       [ 45,   0]], dtype=int64)"
      ]
     },
     "execution_count": 6,
     "metadata": {},
     "output_type": "execute_result"
    }
   ],
   "source": [
    "from sklearn.metrics import confusion_matrix\n",
    "\n",
    "confusion_matrix(test_target, pred)"
   ]
  },
  {
   "cell_type": "markdown",
   "id": "25d6735e",
   "metadata": {},
   "source": [
    "예측: 7이 아닌 Digit\n",
    "\n",
    "7이 아닌 Digit(TN) 405\n",
    "\n",
    "7인 경우(FN) 45\n",
    "\n",
    "이 값을  조합해 Classifier의 성능을 측정할 수 있는 지표인 정확도, 정밀도, 재현도를 측정할 수 있다\n",
    "\n",
    "**정확도 = (TP + TN) / (TP + TN + FP + FN)**"
   ]
  },
  {
   "cell_type": "markdown",
   "id": "870a35fd",
   "metadata": {},
   "source": [
    "## 정밀도와 재현율\n",
    "\n",
    "positive 데이터 세트의 예측 성능에 초점을 맞춘 평가 지표\n",
    "\n",
    "**정밀도 = TP / (FP + TP)**\n",
    "\n",
    "Positive 예측 성능을 더욱 정밀하게 측정하기 위한 평가 지표 (presicion_score())\n",
    "\n",
    "**재현율 = TP / (FN + TP)**\n",
    "\n",
    "예측과 실제값이 Positive로 일치한 데이터 건수 (recall_score())"
   ]
  },
  {
   "cell_type": "markdown",
   "id": "000baf80",
   "metadata": {},
   "source": [
    "재현율이 중요한 경우 : 실제 Positive 양성 데이터를 Negative로 잘못 판단하게 되면 업무상 큰 영향이 발생하는 경우"
   ]
  },
  {
   "cell_type": "markdown",
   "id": "106c4dbe",
   "metadata": {},
   "source": [
    "정밀도가 중요한 경우 : 실제 Negative인 음성 데이터를 Positive로 잘못 판단하게 되어 업무상 큰 영향이 발생하는 경우"
   ]
  },
  {
   "cell_type": "markdown",
   "id": "9e266e56",
   "metadata": {},
   "source": [
    "get_clf_eval() = matrix, accuracy, precision, recall의 평가를 한꺼번에 호출"
   ]
  },
  {
   "cell_type": "code",
   "execution_count": 7,
   "id": "38eead8a",
   "metadata": {},
   "outputs": [],
   "source": [
    "from sklearn.metrics import accuracy_score, precision_score, recall_score, confusion_matrix\n",
    "\n",
    "def get_clf_eval(test_target, pred):\n",
    "    confusion = confusion_matrix(test_target, pred)\n",
    "    accuracy = accuracy_score(test_target, pred)\n",
    "    precision = accuracy_score(test_target, pred)\n",
    "    recall = recall_score(test_target, pred)\n",
    "    print('오차행렬')\n",
    "    print(confusion)\n",
    "    print('정확도: {0:.4f}, 정밀도: {1:.4f}, 재현율: {2:.4f}'.format(accuracy, precision, recall))"
   ]
  },
  {
   "cell_type": "code",
   "execution_count": 8,
   "id": "489a8361",
   "metadata": {},
   "outputs": [],
   "source": [
    "from sklearn.linear_model import LogisticRegression\n",
    "\n",
    "train = pd.read_csv('C:/Users/qkrwo/머신러닝/datasets/train.csv')\n",
    "test = pd.read_csv('C:/Users/qkrwo/머신러닝/datasets/test.csv')"
   ]
  },
  {
   "cell_type": "code",
   "execution_count": 9,
   "id": "672473d2",
   "metadata": {},
   "outputs": [],
   "source": [
    "train_s = train['Survived']\n",
    "train = train.drop('Survived', axis=1)"
   ]
  },
  {
   "cell_type": "code",
   "execution_count": 10,
   "id": "930f9a3a",
   "metadata": {},
   "outputs": [
    {
     "data": {
      "text/html": [
       "<div>\n",
       "<style scoped>\n",
       "    .dataframe tbody tr th:only-of-type {\n",
       "        vertical-align: middle;\n",
       "    }\n",
       "\n",
       "    .dataframe tbody tr th {\n",
       "        vertical-align: top;\n",
       "    }\n",
       "\n",
       "    .dataframe thead th {\n",
       "        text-align: right;\n",
       "    }\n",
       "</style>\n",
       "<table border=\"1\" class=\"dataframe\">\n",
       "  <thead>\n",
       "    <tr style=\"text-align: right;\">\n",
       "      <th></th>\n",
       "      <th>PassengerId</th>\n",
       "      <th>Pclass</th>\n",
       "      <th>Name</th>\n",
       "      <th>Sex</th>\n",
       "      <th>Age</th>\n",
       "      <th>SibSp</th>\n",
       "      <th>Parch</th>\n",
       "      <th>Ticket</th>\n",
       "      <th>Fare</th>\n",
       "      <th>Cabin</th>\n",
       "      <th>Embarked</th>\n",
       "    </tr>\n",
       "  </thead>\n",
       "  <tbody>\n",
       "    <tr>\n",
       "      <th>0</th>\n",
       "      <td>1</td>\n",
       "      <td>3</td>\n",
       "      <td>Braund, Mr. Owen Harris</td>\n",
       "      <td>male</td>\n",
       "      <td>22.0</td>\n",
       "      <td>1</td>\n",
       "      <td>0</td>\n",
       "      <td>A/5 21171</td>\n",
       "      <td>7.2500</td>\n",
       "      <td>NaN</td>\n",
       "      <td>S</td>\n",
       "    </tr>\n",
       "    <tr>\n",
       "      <th>1</th>\n",
       "      <td>2</td>\n",
       "      <td>1</td>\n",
       "      <td>Cumings, Mrs. John Bradley (Florence Briggs Th...</td>\n",
       "      <td>female</td>\n",
       "      <td>38.0</td>\n",
       "      <td>1</td>\n",
       "      <td>0</td>\n",
       "      <td>PC 17599</td>\n",
       "      <td>71.2833</td>\n",
       "      <td>C85</td>\n",
       "      <td>C</td>\n",
       "    </tr>\n",
       "    <tr>\n",
       "      <th>2</th>\n",
       "      <td>3</td>\n",
       "      <td>3</td>\n",
       "      <td>Heikkinen, Miss. Laina</td>\n",
       "      <td>female</td>\n",
       "      <td>26.0</td>\n",
       "      <td>0</td>\n",
       "      <td>0</td>\n",
       "      <td>STON/O2. 3101282</td>\n",
       "      <td>7.9250</td>\n",
       "      <td>NaN</td>\n",
       "      <td>S</td>\n",
       "    </tr>\n",
       "    <tr>\n",
       "      <th>3</th>\n",
       "      <td>4</td>\n",
       "      <td>1</td>\n",
       "      <td>Futrelle, Mrs. Jacques Heath (Lily May Peel)</td>\n",
       "      <td>female</td>\n",
       "      <td>35.0</td>\n",
       "      <td>1</td>\n",
       "      <td>0</td>\n",
       "      <td>113803</td>\n",
       "      <td>53.1000</td>\n",
       "      <td>C123</td>\n",
       "      <td>S</td>\n",
       "    </tr>\n",
       "    <tr>\n",
       "      <th>4</th>\n",
       "      <td>5</td>\n",
       "      <td>3</td>\n",
       "      <td>Allen, Mr. William Henry</td>\n",
       "      <td>male</td>\n",
       "      <td>35.0</td>\n",
       "      <td>0</td>\n",
       "      <td>0</td>\n",
       "      <td>373450</td>\n",
       "      <td>8.0500</td>\n",
       "      <td>NaN</td>\n",
       "      <td>S</td>\n",
       "    </tr>\n",
       "  </tbody>\n",
       "</table>\n",
       "</div>"
      ],
      "text/plain": [
       "   PassengerId  Pclass                                               Name  \\\n",
       "0            1       3                            Braund, Mr. Owen Harris   \n",
       "1            2       1  Cumings, Mrs. John Bradley (Florence Briggs Th...   \n",
       "2            3       3                             Heikkinen, Miss. Laina   \n",
       "3            4       1       Futrelle, Mrs. Jacques Heath (Lily May Peel)   \n",
       "4            5       3                           Allen, Mr. William Henry   \n",
       "\n",
       "      Sex   Age  SibSp  Parch            Ticket     Fare Cabin Embarked  \n",
       "0    male  22.0      1      0         A/5 21171   7.2500   NaN        S  \n",
       "1  female  38.0      1      0          PC 17599  71.2833   C85        C  \n",
       "2  female  26.0      0      0  STON/O2. 3101282   7.9250   NaN        S  \n",
       "3  female  35.0      1      0            113803  53.1000  C123        S  \n",
       "4    male  35.0      0      0            373450   8.0500   NaN        S  "
      ]
     },
     "execution_count": 10,
     "metadata": {},
     "output_type": "execute_result"
    }
   ],
   "source": [
    "train.head()"
   ]
  },
  {
   "cell_type": "code",
   "execution_count": 11,
   "id": "9b600361",
   "metadata": {},
   "outputs": [
    {
     "name": "stdout",
     "output_type": "stream",
     "text": [
      "<class 'pandas.core.frame.DataFrame'>\n",
      "RangeIndex: 891 entries, 0 to 890\n",
      "Data columns (total 11 columns):\n",
      " #   Column       Non-Null Count  Dtype  \n",
      "---  ------       --------------  -----  \n",
      " 0   PassengerId  891 non-null    int64  \n",
      " 1   Pclass       891 non-null    int64  \n",
      " 2   Name         891 non-null    object \n",
      " 3   Sex          891 non-null    object \n",
      " 4   Age          714 non-null    float64\n",
      " 5   SibSp        891 non-null    int64  \n",
      " 6   Parch        891 non-null    int64  \n",
      " 7   Ticket       891 non-null    object \n",
      " 8   Fare         891 non-null    float64\n",
      " 9   Cabin        204 non-null    object \n",
      " 10  Embarked     889 non-null    object \n",
      "dtypes: float64(2), int64(4), object(5)\n",
      "memory usage: 76.7+ KB\n"
     ]
    }
   ],
   "source": [
    "train.info()"
   ]
  },
  {
   "cell_type": "code",
   "execution_count": 12,
   "id": "1b573db7",
   "metadata": {},
   "outputs": [],
   "source": [
    "from sklearn.preprocessing import LabelEncoder\n",
    "\n",
    "def fillna(df):\n",
    "    df['Age'].fillna(df['Age'].mean(), inplace=True)\n",
    "    df['Cabin'].fillna('N', inplace=True)\n",
    "    df['Embarked'].fillna('N', inplace=True)\n",
    "    return df\n",
    "\n",
    "def label(df):\n",
    "    features = ['Sex', 'Cabin', 'Embarked']\n",
    "    for feature in features:\n",
    "        le = LabelEncoder()\n",
    "        le.fit(df[feature])\n",
    "        df[feature]= le.transform(df[feature])\n",
    "    return df\n",
    "\n",
    "def drop(df):\n",
    "    df.drop(['PassengerId', 'Name', 'Ticket'], axis=1, inplace=True)\n",
    "    return df\n",
    "\n",
    "def transform_feature(df):\n",
    "    df = fillna(df)\n",
    "    df = label(df)\n",
    "    df = drop(df)\n",
    "    return df"
   ]
  },
  {
   "cell_type": "code",
   "execution_count": 13,
   "id": "20b6f79a",
   "metadata": {},
   "outputs": [],
   "source": [
    "train = transform_feature(train)"
   ]
  },
  {
   "cell_type": "code",
   "execution_count": 14,
   "id": "416cfdae",
   "metadata": {},
   "outputs": [
    {
     "data": {
      "text/html": [
       "<div>\n",
       "<style scoped>\n",
       "    .dataframe tbody tr th:only-of-type {\n",
       "        vertical-align: middle;\n",
       "    }\n",
       "\n",
       "    .dataframe tbody tr th {\n",
       "        vertical-align: top;\n",
       "    }\n",
       "\n",
       "    .dataframe thead th {\n",
       "        text-align: right;\n",
       "    }\n",
       "</style>\n",
       "<table border=\"1\" class=\"dataframe\">\n",
       "  <thead>\n",
       "    <tr style=\"text-align: right;\">\n",
       "      <th></th>\n",
       "      <th>Pclass</th>\n",
       "      <th>Sex</th>\n",
       "      <th>Age</th>\n",
       "      <th>SibSp</th>\n",
       "      <th>Parch</th>\n",
       "      <th>Fare</th>\n",
       "      <th>Cabin</th>\n",
       "      <th>Embarked</th>\n",
       "    </tr>\n",
       "  </thead>\n",
       "  <tbody>\n",
       "    <tr>\n",
       "      <th>0</th>\n",
       "      <td>3</td>\n",
       "      <td>1</td>\n",
       "      <td>22.0</td>\n",
       "      <td>1</td>\n",
       "      <td>0</td>\n",
       "      <td>7.2500</td>\n",
       "      <td>146</td>\n",
       "      <td>3</td>\n",
       "    </tr>\n",
       "    <tr>\n",
       "      <th>1</th>\n",
       "      <td>1</td>\n",
       "      <td>0</td>\n",
       "      <td>38.0</td>\n",
       "      <td>1</td>\n",
       "      <td>0</td>\n",
       "      <td>71.2833</td>\n",
       "      <td>81</td>\n",
       "      <td>0</td>\n",
       "    </tr>\n",
       "    <tr>\n",
       "      <th>2</th>\n",
       "      <td>3</td>\n",
       "      <td>0</td>\n",
       "      <td>26.0</td>\n",
       "      <td>0</td>\n",
       "      <td>0</td>\n",
       "      <td>7.9250</td>\n",
       "      <td>146</td>\n",
       "      <td>3</td>\n",
       "    </tr>\n",
       "    <tr>\n",
       "      <th>3</th>\n",
       "      <td>1</td>\n",
       "      <td>0</td>\n",
       "      <td>35.0</td>\n",
       "      <td>1</td>\n",
       "      <td>0</td>\n",
       "      <td>53.1000</td>\n",
       "      <td>55</td>\n",
       "      <td>3</td>\n",
       "    </tr>\n",
       "    <tr>\n",
       "      <th>4</th>\n",
       "      <td>3</td>\n",
       "      <td>1</td>\n",
       "      <td>35.0</td>\n",
       "      <td>0</td>\n",
       "      <td>0</td>\n",
       "      <td>8.0500</td>\n",
       "      <td>146</td>\n",
       "      <td>3</td>\n",
       "    </tr>\n",
       "  </tbody>\n",
       "</table>\n",
       "</div>"
      ],
      "text/plain": [
       "   Pclass  Sex   Age  SibSp  Parch     Fare  Cabin  Embarked\n",
       "0       3    1  22.0      1      0   7.2500    146         3\n",
       "1       1    0  38.0      1      0  71.2833     81         0\n",
       "2       3    0  26.0      0      0   7.9250    146         3\n",
       "3       1    0  35.0      1      0  53.1000     55         3\n",
       "4       3    1  35.0      0      0   8.0500    146         3"
      ]
     },
     "execution_count": 14,
     "metadata": {},
     "output_type": "execute_result"
    }
   ],
   "source": [
    "train.head()"
   ]
  },
  {
   "cell_type": "code",
   "execution_count": 15,
   "id": "353a2c7e",
   "metadata": {},
   "outputs": [],
   "source": [
    "train_input, test_input, train_target, test_target = train_test_split(train, train_s, test_size=0.2, random_state=11)"
   ]
  },
  {
   "cell_type": "code",
   "execution_count": 16,
   "id": "38e01db8",
   "metadata": {},
   "outputs": [
    {
     "name": "stdout",
     "output_type": "stream",
     "text": [
      "오차행렬\n",
      "[[108  10]\n",
      " [ 16  45]]\n",
      "정확도: 0.8547, 정밀도: 0.8547, 재현율: 0.7377\n"
     ]
    }
   ],
   "source": [
    "lr = LogisticRegression(solver='liblinear')\n",
    "lr.fit(train_input, train_target)\n",
    "\n",
    "pred = lr.predict(test_input)\n",
    "get_clf_eval(test_target, pred)"
   ]
  },
  {
   "cell_type": "markdown",
   "id": "23924a3d",
   "metadata": {},
   "source": [
    "## 정밀도/재현율 트레이드 오프\n",
    "\n",
    "분류의 특성상 정밀도 또는 재현율이 강조되어야 할 경우 임계값을 조정해 정밀도 또는 재현율의 수치를 높일 수 있다.\n",
    "\n",
    "정밀도와 재현율은 상호 보완적인 지표이기 때문에 어느 한 쪽을 강제로 높이면 다른 하나의 수치는 떨어지기 쉽다\n",
    "\n",
    "predict_proba()"
   ]
  },
  {
   "cell_type": "code",
   "execution_count": 17,
   "id": "40343282",
   "metadata": {},
   "outputs": [
    {
     "name": "stdout",
     "output_type": "stream",
     "text": [
      "pred_proba 결과 shape (179, 2)\n"
     ]
    },
    {
     "data": {
      "text/plain": [
       "array([[0.45394788, 0.54605212],\n",
       "       [0.86558995, 0.13441005],\n",
       "       [0.86569829, 0.13430171]])"
      ]
     },
     "execution_count": 17,
     "metadata": {},
     "output_type": "execute_result"
    }
   ],
   "source": [
    "pred_proba = lr.predict_proba(test_input)\n",
    "pred = lr.predict(test_input)\n",
    "print('pred_proba 결과 shape', pred_proba.shape)\n",
    "pred_proba[:3]"
   ]
  },
  {
   "cell_type": "code",
   "execution_count": 18,
   "id": "b34c2e89",
   "metadata": {},
   "outputs": [
    {
     "data": {
      "text/plain": [
       "array([[0.45394788, 0.54605212, 1.        ],\n",
       "       [0.86558995, 0.13441005, 0.        ],\n",
       "       [0.86569829, 0.13430171, 0.        ],\n",
       "       [0.83841241, 0.16158759, 0.        ],\n",
       "       [0.80860496, 0.19139504, 0.        ]])"
      ]
     },
     "execution_count": 18,
     "metadata": {},
     "output_type": "execute_result"
    }
   ],
   "source": [
    "pred_proba_result = np.concatenate([pred_proba, pred.reshape(-1,1)], axis=1)\n",
    "pred_proba_result[:5]"
   ]
  },
  {
   "cell_type": "code",
   "execution_count": 19,
   "id": "28b2f364",
   "metadata": {},
   "outputs": [
    {
     "data": {
      "text/plain": [
       "array([[0., 0., 1.],\n",
       "       [1., 0., 0.],\n",
       "       [0., 0., 1.]])"
      ]
     },
     "execution_count": 19,
     "metadata": {},
     "output_type": "execute_result"
    }
   ],
   "source": [
    "from sklearn.preprocessing import Binarizer\n",
    "\n",
    "X = [[1,-1,2],\n",
    "    [2,0,0],\n",
    "    [0,1.1,1.2]]\n",
    "\n",
    "binarizer = Binarizer(threshold=1.1)\n",
    "binarizer.fit_transform(X)"
   ]
  },
  {
   "cell_type": "markdown",
   "id": "a8779af7",
   "metadata": {},
   "source": [
    "입력된 데이터 세트 X에서 Binarizer의 threshold값이 1.1보다 같거나 작으면 0, 크면 1로 변환"
   ]
  },
  {
   "cell_type": "code",
   "execution_count": 20,
   "id": "f1750c79",
   "metadata": {},
   "outputs": [
    {
     "name": "stdout",
     "output_type": "stream",
     "text": [
      "오차행렬\n",
      "[[108  10]\n",
      " [ 16  45]]\n",
      "정확도: 0.8547, 정밀도: 0.8547, 재현율: 0.7377\n"
     ]
    }
   ],
   "source": [
    "custom_threshold = 0.5\n",
    "\n",
    "pred_proba_1 = pred_proba[:,1].reshape(-1,1)\n",
    "\n",
    "binarizer = Binarizer(threshold = custom_threshold).fit(pred_proba_1)\n",
    "custom_predict = binarizer.transform(pred_proba_1)\n",
    "\n",
    "get_clf_eval(test_target, custom_predict)"
   ]
  },
  {
   "cell_type": "code",
   "execution_count": 23,
   "id": "200fbe00",
   "metadata": {},
   "outputs": [
    {
     "name": "stdout",
     "output_type": "stream",
     "text": [
      "오차행렬\n",
      "[[98 20]\n",
      " [11 50]]\n",
      "정확도: 0.8268, 정밀도: 0.8268, 재현율: 0.8197\n"
     ]
    }
   ],
   "source": [
    "custom_threshold=0.4\n",
    "\n",
    "pred_proba_1 = pred_proba[:,1].reshape(-1,1)\n",
    "\n",
    "binarizer = Binarizer(threshold = custom_threshold).fit(pred_proba_1)\n",
    "custom_predict = binarizer.transform(pred_proba_1)\n",
    "\n",
    "get_clf_eval(test_target, custom_predict)"
   ]
  },
  {
   "cell_type": "markdown",
   "id": "db985790",
   "metadata": {},
   "source": [
    "임곗값을 낮추니 재현율 값이 올라가고 정밀도가 떨어짐\n",
    "\n",
    "확률이 0.5가 아닌 0.4부터 Positive로 예측하니 True값이 늘기 때문\n",
    "\n",
    "분류 결정 임곗값은 Positivs 예측값을 결정하는 확률의 기준이 됨"
   ]
  },
  {
   "cell_type": "code",
   "execution_count": 53,
   "id": "4f050963",
   "metadata": {},
   "outputs": [
    {
     "name": "stdout",
     "output_type": "stream",
     "text": [
      "임곗값:  0.4\n",
      "오차행렬\n",
      "[[98 20]\n",
      " [11 50]]\n",
      "정확도: 0.8268, 정밀도: 0.8268, 재현율: 0.8197, F1: 0.7634\n",
      "임곗값:  0.45\n",
      "오차행렬\n",
      "[[106  12]\n",
      " [ 14  47]]\n",
      "정확도: 0.8547, 정밀도: 0.8547, 재현율: 0.7705, F1: 0.7833\n",
      "임곗값:  0.5\n",
      "오차행렬\n",
      "[[108  10]\n",
      " [ 16  45]]\n",
      "정확도: 0.8547, 정밀도: 0.8547, 재현율: 0.7377, F1: 0.7759\n",
      "임곗값:  0.55\n",
      "오차행렬\n",
      "[[111   7]\n",
      " [ 17  44]]\n",
      "정확도: 0.8659, 정밀도: 0.8659, 재현율: 0.7213, F1: 0.7857\n",
      "임곗값:  0.6\n",
      "오차행렬\n",
      "[[113   5]\n",
      " [ 18  43]]\n",
      "정확도: 0.8715, 정밀도: 0.8715, 재현율: 0.7049, F1: 0.7890\n"
     ]
    }
   ],
   "source": [
    "threshold = [0.4, 0.45, 0.5, 0.55, 0.6]\n",
    "\n",
    "def get_eval_by_threshold(test_target, predict_proba, threshold):\n",
    "    for custom_threshold in threshold:\n",
    "        binarizer = Binarizer(threshold = custom_threshold).fit(predict_proba)\n",
    "        custom_predict = binarizer.transform(predict_proba)\n",
    "        print('임곗값: ', custom_threshold)\n",
    "        get_clf_eval(test_target, custom_predict)\n",
    "\n",
    "get_eval_by_threshold(test_target, pred_proba[:,1].reshape(-1,1), threshold)"
   ]
  },
  {
   "cell_type": "code",
   "execution_count": 34,
   "id": "6a39c907",
   "metadata": {},
   "outputs": [
    {
     "name": "stdout",
     "output_type": "stream",
     "text": [
      "thresholds shape:  (165,)\n",
      "[  0  15  30  45  60  75  90 105 120 135 150]\n",
      "11개 임곗값 [0.02 0.11 0.13 0.14 0.17 0.25 0.32 0.44 0.61 0.73 0.87]\n",
      "정밀도:  [0.341 0.372 0.401 0.44  0.505 0.598 0.675 0.774 0.915 0.968 1.   ]\n",
      "재현도:  [1.    1.    0.967 0.902 0.902 0.902 0.852 0.787 0.705 0.492 0.262]\n"
     ]
    }
   ],
   "source": [
    "from sklearn.metrics import precision_recall_curve\n",
    "\n",
    "pred_proba = lr.predict_proba(test_input)[:,1]\n",
    "\n",
    "precisions, recalls, thresholds = precision_recall_curve(test_target, pred_proba)\n",
    "print('thresholds shape: ', thresholds.shape)\n",
    "\n",
    "thr_index = np.arange(0,thresholds.shape[0],15)\n",
    "print(thr_index)\n",
    "print('11개 임곗값', np.round(thresholds[thr_index],2))\n",
    "\n",
    "print('정밀도: ', np.round(precisions[thr_index],3))\n",
    "print('재현도: ', np.round(recalls[thr_index],3))"
   ]
  },
  {
   "cell_type": "markdown",
   "id": "c458fd7b",
   "metadata": {},
   "source": [
    "#### 시각화"
   ]
  },
  {
   "cell_type": "code",
   "execution_count": 36,
   "id": "efcda4ad",
   "metadata": {},
   "outputs": [],
   "source": [
    "import matplotlib.pyplot as plt\n",
    "import matplotlib.ticker as ticker\n",
    "%matplotlib inline"
   ]
  },
  {
   "cell_type": "code",
   "execution_count": 46,
   "id": "78bf965d",
   "metadata": {},
   "outputs": [
    {
     "data": {
      "image/png": "[encoded data removed]",
      "text/plain": [
       "<Figure size 800x600 with 1 Axes>"
      ]
     },
     "metadata": {},
     "output_type": "display_data"
    }
   ],
   "source": [
    "def precision_recall_curve_plot(test_target, pred_proba):\n",
    "    precisions, recalls, thresholds = precision_recall_curve(test_target, pred_proba)\n",
    "    \n",
    "    plt.figure(figsize=(8,6))\n",
    "    threshold_boundary = thresholds.shape[0]\n",
    "    plt.plot(thresholds, precisions[0:threshold_boundary], linestyle='-', label='precision')\n",
    "    plt.plot(thresholds, recalls[0:threshold_boundary], label='recall')\n",
    "    \n",
    "    start, end = plt.xlim()\n",
    "    plt.xticks(np.round(np.arange(start, end, 0.1),2))\n",
    "    \n",
    "    plt.xlabel('Threshold value'); plt.ylabel('Precision and Recall value')\n",
    "    plt.legend(); plt.grid()\n",
    "    plt.show()\n",
    "    \n",
    "precision_recall_curve_plot(test_target, lr.predict_proba(test_input)[:,1])"
   ]
  },
  {
   "cell_type": "markdown",
   "id": "2d0ddc2a",
   "metadata": {},
   "source": [
    "## F1 스코어\n",
    "\n",
    "정밀도와 재현율을 결합한 지표\n",
    "\n",
    "정밀도와 재현율이 어느 한 쪽으로 치우치지 않는 수치를 나타낼 때 상대적으로 높은 값을 가짐\n",
    "\n",
    "f1_score()"
   ]
  },
  {
   "cell_type": "code",
   "execution_count": 48,
   "id": "a5da9ab4",
   "metadata": {},
   "outputs": [
    {
     "data": {
      "text/plain": [
       "0.7759"
      ]
     },
     "execution_count": 48,
     "metadata": {},
     "output_type": "execute_result"
    }
   ],
   "source": [
    "from sklearn.metrics import f1_score\n",
    "\n",
    "f1 = f1_score(test_target, pred)\n",
    "np.round(f1, 4)"
   ]
  },
  {
   "cell_type": "code",
   "execution_count": 50,
   "id": "1850fd88",
   "metadata": {},
   "outputs": [
    {
     "name": "stdout",
     "output_type": "stream",
     "text": [
      "임곗값:  0.4\n",
      "오차행렬\n",
      "[[98 20]\n",
      " [11 50]]\n",
      "정확도: 0.8268, 정밀도: 0.8268, 재현율: 0.8197, F1: 0.7634\n",
      "임곗값:  0.45\n",
      "오차행렬\n",
      "[[106  12]\n",
      " [ 14  47]]\n",
      "정확도: 0.8547, 정밀도: 0.8547, 재현율: 0.7705, F1: 0.7833\n",
      "임곗값:  0.5\n",
      "오차행렬\n",
      "[[108  10]\n",
      " [ 16  45]]\n",
      "정확도: 0.8547, 정밀도: 0.8547, 재현율: 0.7377, F1: 0.7759\n",
      "임곗값:  0.55\n",
      "오차행렬\n",
      "[[111   7]\n",
      " [ 17  44]]\n",
      "정확도: 0.8659, 정밀도: 0.8659, 재현율: 0.7213, F1: 0.7857\n",
      "임곗값:  0.6\n",
      "오차행렬\n",
      "[[113   5]\n",
      " [ 18  43]]\n",
      "정확도: 0.8715, 정밀도: 0.8715, 재현율: 0.7049, F1: 0.7890\n"
     ]
    }
   ],
   "source": [
    "def get_clf_eval(test_target, pred):\n",
    "    confusion = confusion_matrix(test_target, pred)\n",
    "    accuracy = accuracy_score(test_target, pred)\n",
    "    precision = accuracy_score(test_target, pred)\n",
    "    recall = recall_score(test_target, pred)\n",
    "    print('오차행렬')\n",
    "    print(confusion)\n",
    "    \n",
    "    f1 = f1_score(test_target, pred)\n",
    "    \n",
    "    print('정확도: {0:.4f}, 정밀도: {1:.4f}, 재현율: {2:.4f}, F1: {3:.4f}'.format(accuracy, precision, recall,  f1))\n",
    "    \n",
    "thresholds = [0.4,0.45,0.5,0.55,0.6]\n",
    "pred_proba = lr.predict_proba(test_input)\n",
    "get_eval_by_threshold(test_target, pred_proba[:,1].reshape(-1,1), thresholds)"
   ]
  },
  {
   "cell_type": "markdown",
   "id": "1acc4923",
   "metadata": {},
   "source": [
    "## ROC 곡선과 AUC\n",
    "\n",
    "ROC곡선은 FPR(False Positive Rate)이 변할 때  TPR(True Positive Rate, 재현율)이 어떻게 변하는지 나타내는 곡선\n",
    "\n",
    "그리고 재현율에 대응하는 지표로 TNR(True Negative Rate, 특이성)이 있다\n",
    "\n",
    " - TPR은 실제값 Positive(양성)가 정확히 예측되어야 하는 수준을 나타냄\n",
    " - TNR은 실제값 Negative(음성)가 정확히 예측되어야 하는 수준을 나타냄\n",
    " \n",
    "**TNR = TN / (FP + TN)**\n",
    "\n",
    "**FPR = FP / (FP + TN) = 1 - TNR = 1 - 특이성**"
   ]
  },
  {
   "attachments": {
    "image.png": {
     "image/png": "[encoded data removed]"
    }
   },
   "cell_type": "markdown",
   "id": "3eaae225",
   "metadata": {},
   "source": [
    "![image.png](attachment:image.png)\n",
    "\n",
    "가운데 직선은 ROC곡선의 최저값으로 ROC곡선이 가운데 직선에 가까울수록 성능이 떨어지는 것이며, 멀수록 성능이 뛰어난 것이다\n",
    "\n",
    "ROC곡선은 FPR을 0부터 1까지 변경하면서 TPR의 변화값을 구함 (분류 결정 임곗값을 이용)\n",
    "\n",
    "임곗값은 Positive 예측값을 결정하는 확률의 기준이기 때문에 FPR을 0으로 만들기 위해서는 임곗값을 1로 지정하면 된다\n",
    "\n",
    "임곗값을 1로 지정하면 Positive 예측 기준이 매우 높기 때문에 분류기가 임곗값보다 높은 확률을 가진 데이터를 Positive로 예측할 수 없기 때문\n",
    "\n",
    "임곗값을 0으로 지정하면 TN이 0이되어 FPR을 1로 설정할 수 있다\n",
    "\n",
    "roc_curve()"
   ]
  },
  {
   "cell_type": "code",
   "execution_count": 60,
   "id": "0b8bd640",
   "metadata": {},
   "outputs": [
    {
     "name": "stdout",
     "output_type": "stream",
     "text": [
      "샘플 추출을 위한 임곗값 배열의 index:  [ 1  6 11 16 21 26 31 36 41 46 51]\n",
      "샘플 index로 추출한 임곗값:  [0.94 0.69 0.62 0.57 0.44 0.36 0.32 0.15 0.13 0.13 0.02]\n",
      "샘플 임곗값별 FPR:  [0.    0.008 0.025 0.059 0.11  0.195 0.22  0.534 0.619 0.78  1.   ]\n",
      "샘플 임곗값별 TPR:  [0.016 0.525 0.689 0.721 0.787 0.82  0.885 0.902 0.967 0.967 1.   ]\n"
     ]
    }
   ],
   "source": [
    "from sklearn.metrics import roc_curve\n",
    "\n",
    "pred_proba = lr.predict_proba(test_input)[:,1]\n",
    "\n",
    "fprs, tprs, thresholds = roc_curve(test_target, pred_proba)\n",
    "\n",
    "thr_index = np.arange(1,thresholds.shape[0],5)\n",
    "\n",
    "print('샘플 추출을 위한 임곗값 배열의 index: ', thr_index)\n",
    "print('샘플 index로 추출한 임곗값: ', np.round(thresholds[thr_index], 2))\n",
    "\n",
    "print('샘플 임곗값별 FPR: ', np.round(fprs[thr_index], 3))\n",
    "print('샘플 임곗값별 TPR: ', np.round(tprs[thr_index], 3))"
   ]
  },
  {
   "cell_type": "code",
   "execution_count": 65,
   "id": "ec5e433d",
   "metadata": {},
   "outputs": [
    {
     "data": {
      "image/png": "[encoded data removed]",
      "text/plain": [
       "<Figure size 640x480 with 1 Axes>"
      ]
     },
     "metadata": {},
     "output_type": "display_data"
    }
   ],
   "source": [
    "def roc_curve_plot(test_target, pred_proba):\n",
    "    fprs, tprs, thresholds = roc_curve(test_target, pred_proba)\n",
    "    \n",
    "    plt.plot(fprs, tprs, label='ROC')\n",
    "    plt.plot([0,1], [0,1], 'k--', label='Random')\n",
    "    \n",
    "    start, end = plt.xlim()\n",
    "    plt.xticks(np.round(np.arange(start, end, 0.1),2))\n",
    "    plt.xlim(0,1); plt.ylim(0,1)\n",
    "    plt.xlabel('FPR( 1 - Specificity)'); plt.ylabel('TPR (Recall)')\n",
    "    plt.legend()\n",
    "    \n",
    "roc_curve_plot(test_target, pred_proba)"
   ]
  },
  {
   "cell_type": "code",
   "execution_count": 66,
   "id": "86eca95b",
   "metadata": {},
   "outputs": [
    {
     "name": "stdout",
     "output_type": "stream",
     "text": [
      "ROC AUC 값: 0.8980\n"
     ]
    }
   ],
   "source": [
    "from sklearn.metrics import roc_auc_score\n",
    "\n",
    "pred_proba = lr.predict_proba(test_input)[:,1]\n",
    "roc_score = roc_auc_score(test_target, pred_proba)\n",
    "print('ROC AUC 값: {0:.4f}'.format(roc_score))"
   ]
  }
 ],
 "metadata": {
  "kernelspec": {
   "display_name": "Python 3 (ipykernel)",
   "language": "python",
   "name": "python3"
  },
  "language_info": {
   "codemirror_mode": {
    "name": "ipython",
    "version": 3
   },
   "file_extension": ".py",
   "mimetype": "text/x-python",
   "name": "python",
   "nbconvert_exporter": "python",
   "pygments_lexer": "ipython3",
   "version": "3.10.9"
  }
 },
 "nbformat": 4,
 "nbformat_minor": 5
}
