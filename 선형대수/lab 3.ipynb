{
 "cells": [
  {
   "attachments": {
    "image.png": {
     "image/png": "[encoded data removed]"
    }
   },
   "cell_type": "markdown",
   "metadata": {},
   "source": [
    "![image.png](attachment:image.png)"
   ]
  },
  {
   "cell_type": "code",
   "execution_count": 2,
   "metadata": {},
   "outputs": [],
   "source": [
    "import numpy as np\n",
    "import numpy.linalg as la\n",
    "from numpy.linalg import eig\n",
    "from numpy.linalg import inv\n",
    "\n",
    "import time"
   ]
  },
  {
   "cell_type": "code",
   "execution_count": 20,
   "metadata": {},
   "outputs": [
    {
     "data": {
      "text/plain": [
       "array([[ 4,  0, -2],\n",
       "       [ 2,  5,  4],\n",
       "       [ 0,  0,  5]])"
      ]
     },
     "execution_count": 20,
     "metadata": {},
     "output_type": "execute_result"
    }
   ],
   "source": [
    "# diagonalization and power of a matrix\n",
    "A = np.array([[4, 0, -2], [2, 5, 4], [0, 0, 5]])\n",
    "A\n",
    "\n",
    "#3x3 matrix"
   ]
  },
  {
   "cell_type": "code",
   "execution_count": 21,
   "metadata": {
    "collapsed": true
   },
   "outputs": [],
   "source": [
    "eig_val, eig_vec = eig(A)\n",
    "#numpy 내에 linear algebra pakage\n",
    "#eigen value / vector를 줌"
   ]
  },
  {
   "cell_type": "code",
   "execution_count": 22,
   "metadata": {},
   "outputs": [
    {
     "data": {
      "text/plain": [
       "array([ 5.,  4.,  5.])"
      ]
     },
     "execution_count": 22,
     "metadata": {},
     "output_type": "execute_result"
    }
   ],
   "source": [
    "eig_val"
   ]
  },
  {
   "cell_type": "code",
   "execution_count": 23,
   "metadata": {},
   "outputs": [
    {
     "data": {
      "text/plain": [
       "array([[ 0.        ,  0.4472136 , -0.89442719],\n",
       "       [ 1.        , -0.89442719,  0.        ],\n",
       "       [ 0.        ,  0.        ,  0.4472136 ]])"
      ]
     },
     "execution_count": 23,
     "metadata": {},
     "output_type": "execute_result"
    }
   ],
   "source": [
    "eig_vec\n",
    "#5에 해당하는 eigen vector가 0 1 0"
   ]
  },
  {
   "cell_type": "code",
   "execution_count": 24,
   "metadata": {},
   "outputs": [
    {
     "data": {
      "text/plain": [
       "array([[ 5.,  0.,  0.],\n",
       "       [ 0.,  4.,  0.],\n",
       "       [ 0.,  0.,  5.]])"
      ]
     },
     "execution_count": 24,
     "metadata": {},
     "output_type": "execute_result"
    }
   ],
   "source": [
    "D = np.diag(eig_val)\n",
    "D\n",
    "#벡터로 나온 eigen value값을 diagonal matrix로 변환"
   ]
  },
  {
   "cell_type": "code",
   "execution_count": 25,
   "metadata": {},
   "outputs": [
    {
     "data": {
      "text/plain": [
       "array([[ 0.        ,  0.4472136 , -0.89442719],\n",
       "       [ 1.        , -0.89442719,  0.        ],\n",
       "       [ 0.        ,  0.        ,  0.4472136 ]])"
      ]
     },
     "execution_count": 25,
     "metadata": {},
     "output_type": "execute_result"
    }
   ],
   "source": [
    "V = eig_vec\n",
    "V\n",
    "#v에 저장"
   ]
  },
  {
   "cell_type": "code",
   "execution_count": 26,
   "metadata": {},
   "outputs": [
    {
     "data": {
      "text/plain": [
       "array([[ 4.,  0., -2.],\n",
       "       [ 2.,  5.,  4.],\n",
       "       [ 0.,  0.,  5.]])"
      ]
     },
     "execution_count": 26,
     "metadata": {},
     "output_type": "execute_result"
    }
   ],
   "source": [
    "V.dot(D).dot(la.inv(V))\n",
    "#수식 적용"
   ]
  },
  {
   "cell_type": "code",
   "execution_count": 27,
   "metadata": {},
   "outputs": [
    {
     "data": {
      "text/plain": [
       "array([[ 1024,     0, -4202],\n",
       "       [ 4202,  3125,  8404],\n",
       "       [    0,     0,  3125]])"
      ]
     },
     "execution_count": 27,
     "metadata": {},
     "output_type": "execute_result"
    }
   ],
   "source": [
    "la.matrix_power(A,5)\n",
    "#A의 k승"
   ]
  },
  {
   "cell_type": "code",
   "execution_count": 10,
   "metadata": {},
   "outputs": [
    {
     "data": {
      "text/plain": [
       "array([[ 3125.,     0.,     0.],\n",
       "       [    0.,  1024.,     0.],\n",
       "       [    0.,     0.,  3125.]])"
      ]
     },
     "execution_count": 10,
     "metadata": {},
     "output_type": "execute_result"
    }
   ],
   "source": [
    "D_power_5 = np.diag(eig_val**5)\n",
    "D_power_5\n",
    "#가운데 diagonal matrix만 element별로 5번의 거듭제곱 \n",
    "#처음 value는벡터기에 제곱 후 diagonal matrix로 변환"
   ]
  },
  {
   "cell_type": "code",
   "execution_count": 11,
   "metadata": {},
   "outputs": [
    {
     "data": {
      "text/plain": [
       "array([[ 1024.,     0., -4202.],\n",
       "       [ 4202.,  3125.,  8404.],\n",
       "       [    0.,     0.,  3125.]])"
      ]
     },
     "execution_count": 11,
     "metadata": {},
     "output_type": "execute_result"
    }
   ],
   "source": [
    "V.dot(D_power_5).dot(la.inv(V))\n",
    "\n",
    "#수식 대입"
   ]
  },
  {
   "cell_type": "code",
   "execution_count": 12,
   "metadata": {},
   "outputs": [
    {
     "name": "stdout",
     "output_type": "stream",
     "text": [
      "[[ 0.17777778  0.08888889  0.17777778  0.26666667  0.28888889]\n",
      " [ 0.0625      0.03125     0.15625     0.28125     0.46875   ]\n",
      " [ 0.12903226  0.16129032  0.35483871  0.19354839  0.16129032]\n",
      " [ 0.19672131  0.29508197  0.19672131  0.32786885 -0.01639344]\n",
      " [ 0.2826087   0.65217391  0.2173913  -0.02173913 -0.13043478]]\n",
      "[ 0.51562245  0.51562245  0.51562245  0.51562245  0.51562245]\n",
      "0.8648059368133545\n"
     ]
    }
   ],
   "source": [
    "#k승을 A에 하는것과 수식 대입하는 것의 속도 차이\n",
    "# create a matrix A\n",
    "A = np.array([[4., 4, 2, 3, -2], [0, 1, -2, -2, 2], [6, 12, 11, 2, -4], [9, 20, 10, 10, -6], [15, 28, 14, 5, -3]])\n",
    "\n",
    "A = A + A.T\n",
    "A = A/np.expand_dims(np.sum(A, 1), axis = 1)\n",
    "print (A)\n",
    "\n",
    "#주어진 matrix A를 백만번 곱하는 연산\n",
    "# initialize parameters\n",
    "x = np.random.rand(5)\n",
    "#x는 랜덤한 5-dimension의 벡터\n",
    "n_times = 1000000\n",
    "\n",
    "# perform matrix multiplications\n",
    "y = x\n",
    "start_time = time.time()\n",
    "for i in range(0, n_times):\n",
    "    y = A.dot(y)\n",
    "end_time = time.time()\n",
    "#시간을 잼 / for loop을 백만번 A를 계속 곱해서 y 업데이트\n",
    "elapse_time = end_time - start_time\n",
    "print (y)\n",
    "print (elapse_time)"
   ]
  },
  {
   "cell_type": "code",
   "execution_count": 13,
   "metadata": {},
   "outputs": [
    {
     "name": "stdout",
     "output_type": "stream",
     "text": [
      "[ 0.51562245  0.51562245  0.51562245  0.51562245  0.51562245]\n",
      "0.00035500526428222656\n"
     ]
    }
   ],
   "source": [
    "eig_val, eig_vec = eig(A)\n",
    "D = np.diag(eig_val)\n",
    "V = eig_vec\n",
    "#A를 수식으로 분해할 수 있는 재료 matrix\n",
    "\n",
    "# perform matrix multiplications using eigendecomposition\n",
    "start_time = time.time()\n",
    "y = V.dot((eig_val**n_times)*la.solve(V,x))\n",
    "#solve: Va = x상수벡터 a를 찾게 함 / V역함수 대신\n",
    "#matrix, vector내적이나 행렬 곱을 할 때 dot product사용\n",
    "#여기서 *는 같은 길이의 벡터, 행렬이 있을 때 elemnt별 곱셈 실시\n",
    "end_time = time.time()\n",
    "elapse_time = end_time - start_time\n",
    "print (y)\n",
    "print (elapse_time)"
   ]
  }
 ],
 "metadata": {
  "anaconda-cloud": {},
  "kernelspec": {
   "display_name": "Python 3 (ipykernel)",
   "language": "python",
   "name": "python3"
  },
  "language_info": {
   "codemirror_mode": {
    "name": "ipython",
    "version": 3
   },
   "file_extension": ".py",
   "mimetype": "text/x-python",
   "name": "python",
   "nbconvert_exporter": "python",
   "pygments_lexer": "ipython3",
   "version": "3.10.9"
  }
 },
 "nbformat": 4,
 "nbformat_minor": 1
}
